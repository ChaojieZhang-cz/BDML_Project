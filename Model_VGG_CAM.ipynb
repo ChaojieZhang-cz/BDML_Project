{
 "cells": [
  {
   "cell_type": "code",
   "execution_count": 19,
   "metadata": {},
   "outputs": [],
   "source": [
    "import pandas as pd\n",
    "import numpy as np\n",
    "import matplotlib\n",
    "import matplotlib.pyplot as plt\n",
    "import scipy.misc\n",
    "import os\n",
    "from PIL import Image\n",
    "import torch\n",
    "import torch.nn as nn\n",
    "import torch.nn.functional as F\n",
    "from torch import optim\n",
    "import time\n",
    "from torch.utils.data import Dataset, DataLoader\n",
    "import torchvision.transforms as transforms\n",
    "import torchvision.models as models\n",
    "device = torch.device('cuda')"
   ]
  },
  {
   "cell_type": "code",
   "execution_count": null,
   "metadata": {},
   "outputs": [],
   "source": []
  },
  {
   "cell_type": "code",
   "execution_count": 20,
   "metadata": {},
   "outputs": [],
   "source": [
    "preprocess = transforms.Compose([\n",
    "        transforms.ToTensor(),\n",
    "        transforms.Normalize([0.485, 0.456, 0.406], [0.229, 0.224, 0.225])])\n",
    "\n",
    "\n",
    "class subimages_dataset(Dataset):\n",
    "    def __init__(self, df_path, train = False):\n",
    "        self.df = pd.read_csv(df_path)\n",
    "        self.train = train\n",
    "        \n",
    "    def __len__(self):\n",
    "        return len(self.df)\n",
    "    \n",
    "    def __getitem__(self,idx):\n",
    "        subimages_path = '/scratch/cz2064/myjupyter/BDML/Project/Data/data_subimages/'\n",
    "        file_id = self.df.iloc[idx]['File ID']\n",
    "        file_name = self.df.iloc[idx]['File Name']\n",
    "        subimages_file = self.df.iloc[idx]['Subimage File']\n",
    "        subimages_path = subimages_path + file_id + '/' + subimages_file\n",
    "        image = Image.open(subimages_path)\n",
    "        image_tensor = preprocess(image)\n",
    "        label = self.df.iloc[idx]['label']\n",
    "        sample = {'x': image_tensor, 'y': label}\n",
    "        \n",
    "        return sample   "
   ]
  },
  {
   "cell_type": "code",
   "execution_count": null,
   "metadata": {},
   "outputs": [],
   "source": []
  },
  {
   "cell_type": "code",
   "execution_count": 21,
   "metadata": {},
   "outputs": [],
   "source": [
    "train_df_path = '/scratch/cz2064/myjupyter/BDML/Project/jupyter_phase2/Train_Val_Test/train_subimages.csv'\n",
    "val_df_path = '/scratch/cz2064/myjupyter/BDML/Project/jupyter_phase2/Train_Val_Test/val_subimages.csv'\n",
    "test_df_path = '/scratch/cz2064/myjupyter/BDML/Project/jupyter_phase2/Train_Val_Test/test_subimages.csv'\n",
    "\n",
    "BATCH_SIZE = 8\n",
    "train_loader = DataLoader(subimages_dataset(train_df_path), batch_size=BATCH_SIZE, shuffle=True)\n",
    "val_loader = DataLoader(subimages_dataset(val_df_path), batch_size=BATCH_SIZE, shuffle=True)\n",
    "test_loader = DataLoader(subimages_dataset(test_df_path), batch_size=BATCH_SIZE, shuffle=True)"
   ]
  },
  {
   "cell_type": "code",
   "execution_count": 22,
   "metadata": {},
   "outputs": [
    {
     "ename": "AssertionError",
     "evalue": "\nThe NVIDIA driver on your system is too old (found version 10010).\nPlease update your GPU driver by downloading and installing a new\nversion from the URL: http://www.nvidia.com/Download/index.aspx\nAlternatively, go to: https://pytorch.org to install\na PyTorch version that has been compiled with your version\nof the CUDA driver.",
     "output_type": "error",
     "traceback": [
      "\u001b[0;31m---------------------------------------------------------------------------\u001b[0m",
      "\u001b[0;31mAssertionError\u001b[0m                            Traceback (most recent call last)",
      "\u001b[0;32m<ipython-input-22-9141b0999a8c>\u001b[0m in \u001b[0;36m<module>\u001b[0;34m\u001b[0m\n\u001b[1;32m      1\u001b[0m \u001b[0msample\u001b[0m \u001b[0;34m=\u001b[0m \u001b[0mnext\u001b[0m\u001b[0;34m(\u001b[0m\u001b[0miter\u001b[0m\u001b[0;34m(\u001b[0m\u001b[0mtrain_loader\u001b[0m\u001b[0;34m)\u001b[0m\u001b[0;34m)\u001b[0m\u001b[0;34m\u001b[0m\u001b[0;34m\u001b[0m\u001b[0m\n\u001b[0;32m----> 2\u001b[0;31m \u001b[0msample_input\u001b[0m \u001b[0;34m=\u001b[0m \u001b[0msample\u001b[0m\u001b[0;34m[\u001b[0m\u001b[0;34m'x'\u001b[0m\u001b[0;34m]\u001b[0m\u001b[0;34m.\u001b[0m\u001b[0mto\u001b[0m\u001b[0;34m(\u001b[0m\u001b[0mdevice\u001b[0m\u001b[0;34m,\u001b[0m\u001b[0mdtype\u001b[0m\u001b[0;34m=\u001b[0m\u001b[0mtorch\u001b[0m\u001b[0;34m.\u001b[0m\u001b[0mfloat\u001b[0m\u001b[0;34m)\u001b[0m\u001b[0;34m\u001b[0m\u001b[0;34m\u001b[0m\u001b[0m\n\u001b[0m\u001b[1;32m      3\u001b[0m \u001b[0msample_output\u001b[0m \u001b[0;34m=\u001b[0m \u001b[0msample\u001b[0m\u001b[0;34m[\u001b[0m\u001b[0;34m'y'\u001b[0m\u001b[0;34m]\u001b[0m\u001b[0;34m\u001b[0m\u001b[0;34m\u001b[0m\u001b[0m\n",
      "\u001b[0;32m/scratch/cz2064/envs/BDML_pip/lib/python3.7/site-packages/torch/cuda/__init__.py\u001b[0m in \u001b[0;36m_lazy_init\u001b[0;34m()\u001b[0m\n\u001b[1;32m    147\u001b[0m             raise RuntimeError(\n\u001b[1;32m    148\u001b[0m                 \"Cannot re-initialize CUDA in forked subprocess. \" + msg)\n\u001b[0;32m--> 149\u001b[0;31m         \u001b[0m_check_driver\u001b[0m\u001b[0;34m(\u001b[0m\u001b[0;34m)\u001b[0m\u001b[0;34m\u001b[0m\u001b[0;34m\u001b[0m\u001b[0m\n\u001b[0m\u001b[1;32m    150\u001b[0m         \u001b[0;32mif\u001b[0m \u001b[0m_cudart\u001b[0m \u001b[0;32mis\u001b[0m \u001b[0;32mNone\u001b[0m\u001b[0;34m:\u001b[0m\u001b[0;34m\u001b[0m\u001b[0;34m\u001b[0m\u001b[0m\n\u001b[1;32m    151\u001b[0m             raise AssertionError(\n",
      "\u001b[0;32m/scratch/cz2064/envs/BDML_pip/lib/python3.7/site-packages/torch/cuda/__init__.py\u001b[0m in \u001b[0;36m_check_driver\u001b[0;34m()\u001b[0m\n\u001b[1;32m     61\u001b[0m \u001b[0mAlternatively\u001b[0m\u001b[0;34m,\u001b[0m \u001b[0mgo\u001b[0m \u001b[0mto\u001b[0m\u001b[0;34m:\u001b[0m \u001b[0mhttps\u001b[0m\u001b[0;34m:\u001b[0m\u001b[0;34m//\u001b[0m\u001b[0mpytorch\u001b[0m\u001b[0;34m.\u001b[0m\u001b[0morg\u001b[0m \u001b[0mto\u001b[0m \u001b[0minstall\u001b[0m\u001b[0;34m\u001b[0m\u001b[0;34m\u001b[0m\u001b[0m\n\u001b[1;32m     62\u001b[0m \u001b[0ma\u001b[0m \u001b[0mPyTorch\u001b[0m \u001b[0mversion\u001b[0m \u001b[0mthat\u001b[0m \u001b[0mhas\u001b[0m \u001b[0mbeen\u001b[0m \u001b[0mcompiled\u001b[0m \u001b[0;32mwith\u001b[0m \u001b[0myour\u001b[0m \u001b[0mversion\u001b[0m\u001b[0;34m\u001b[0m\u001b[0;34m\u001b[0m\u001b[0m\n\u001b[0;32m---> 63\u001b[0;31m of the CUDA driver.\"\"\".format(str(torch._C._cuda_getDriverVersion())))\n\u001b[0m\u001b[1;32m     64\u001b[0m \u001b[0;34m\u001b[0m\u001b[0m\n\u001b[1;32m     65\u001b[0m \u001b[0;34m\u001b[0m\u001b[0m\n",
      "\u001b[0;31mAssertionError\u001b[0m: \nThe NVIDIA driver on your system is too old (found version 10010).\nPlease update your GPU driver by downloading and installing a new\nversion from the URL: http://www.nvidia.com/Download/index.aspx\nAlternatively, go to: https://pytorch.org to install\na PyTorch version that has been compiled with your version\nof the CUDA driver."
     ]
    }
   ],
   "source": [
    "sample = next(iter(train_loader))\n",
    "sample_input = sample['x'].to(device,dtype=torch.float)\n",
    "sample_output = sample['y']"
   ]
  },
  {
   "cell_type": "code",
   "execution_count": 14,
   "metadata": {},
   "outputs": [
    {
     "name": "stdout",
     "output_type": "stream",
     "text": [
      "Looking in links: https://download.pytorch.org/whl/torch_stable.html\n",
      "Collecting torch==1.5.0+cu101\n",
      "  Downloading https://download.pytorch.org/whl/cu101/torch-1.5.0%2Bcu101-cp37-cp37m-linux_x86_64.whl (703.8 MB)\n",
      "\u001b[K     |████████████████████████████████| 703.8 MB 19 kB/s s eta 0:00:01   |▉                               | 17.4 MB 7.7 MB/s eta 0:01:29     |█▋                              | 35.2 MB 7.7 MB/s eta 0:01:27     |███                             | 64.9 MB 46.6 MB/s eta 0:00:14     |███                             | 67.5 MB 46.6 MB/s eta 0:00:14     |███▍                            | 75.0 MB 46.6 MB/s eta 0:00:14     |█████                           | 107.7 MB 52.1 MB/s eta 0:00:12     |█████▍                          | 117.6 MB 52.1 MB/s eta 0:00:12     |█████▉                          | 127.6 MB 52.1 MB/s eta 0:00:12     |██████                          | 130.1 MB 52.1 MB/s eta 0:00:12     |███████                         | 155.2 MB 18.5 MB/s eta 0:00:30     |███████▏                        | 157.8 MB 18.5 MB/s eta 0:00:30     |███████▎                        | 160.3 MB 18.5 MB/s eta 0:00:30     |████████                        | 177.7 MB 18.5 MB/s eta 0:00:29     |████████▌                       | 187.6 MB 49.8 MB/s eta 0:00:11     |█████████▍                      | 207.5 MB 49.8 MB/s eta 0:00:10     |█████████▌                      | 210.0 MB 49.8 MB/s eta 0:00:10     |███████████▌                    | 252.6 MB 51.2 MB/s eta 0:00:09     |███████████▊                    | 257.5 MB 51.2 MB/s eta 0:00:09     |███████████▉                    | 260.0 MB 51.2 MB/s eta 0:00:09     |████████████                    | 265.0 MB 51.2 MB/s eta 0:00:09     |████████████▉                   | 282.2 MB 49.7 MB/s eta 0:00:09     |█████████████▍                  | 294.5 MB 49.7 MB/s eta 0:00:09     |██████████████                  | 309.4 MB 49.7 MB/s eta 0:00:08     |████████████████▎               | 358.8 MB 53.8 MB/s eta 0:00:07     |█████████████████▌              | 383.7 MB 53.0 MB/s eta 0:00:07     |███████████████████             | 415.6 MB 53.0 MB/s eta 0:00:06     |███████████████████▏            | 420.5 MB 50.3 MB/s eta 0:00:06     |███████████████████▋            | 430.2 MB 50.3 MB/s eta 0:00:06     |███████████████████▉            | 435.1 MB 50.3 MB/s eta 0:00:06     |█████████████████████           | 459.6 MB 50.3 MB/s eta 0:00:05     |█████████████████████▌          | 471.8 MB 50.0 MB/s eta 0:00:05     |█████████████████████▋          | 476.3 MB 50.0 MB/s eta 0:00:05     |██████████████████████▎         | 491.1 MB 50.0 MB/s eta 0:00:05     |███████████████████████         | 508.3 MB 49.6 MB/s eta 0:00:04     |███████████████████████▍        | 515.6 MB 49.6 MB/s eta 0:00:04     |███████████████████████▌        | 518.1 MB 49.6 MB/s eta 0:00:04     |████████████████████████▋       | 540.2 MB 49.6 MB/s eta 0:00:04     |████████████████████████▊       | 543.0 MB 49.6 MB/s eta 0:00:04     |██████████████████████████▍     | 581.3 MB 49.1 MB/s eta 0:00:03     |██████████████████████████▉     | 590.9 MB 51.5 MB/s eta 0:00:03     |███████████████████████████     | 593.4 MB 51.5 MB/s eta 0:00:03     |███████████████████████████▎    | 600.6 MB 51.5 MB/s eta 0:00:03     |███████████████████████████▋    | 607.9 MB 51.5 MB/s eta 0:00:02     |████████████████████████████▊   | 632.0 MB 51.5 MB/s eta 0:00:02     |█████████████████████████████▊  | 653.7 MB 48.7 MB/s eta 0:00:02     |███████████████████████████████ | 683.1 MB 17.0 MB/s eta 0:00:02\n",
      "\u001b[?25hCollecting torchvision==0.6.0+cu101\n",
      "  Downloading https://download.pytorch.org/whl/cu101/torchvision-0.6.0%2Bcu101-cp37-cp37m-linux_x86_64.whl (6.6 MB)\n",
      "\u001b[K     |████████████████████████████████| 6.6 MB 6.1 MB/s eta 0:00:01     |█████                           | 1.1 MB 6.1 MB/s eta 0:00:01\n",
      "\u001b[?25hRequirement already satisfied: numpy in /scratch/cz2064/envs/BDML_pip/lib/python3.7/site-packages (from torch==1.5.0+cu101) (1.18.4)\n",
      "Requirement already satisfied: future in /scratch/cz2064/envs/BDML_pip/lib/python3.7/site-packages (from torch==1.5.0+cu101) (0.18.2)\n",
      "Requirement already satisfied: pillow>=4.1.1 in /scratch/cz2064/envs/BDML_pip/lib/python3.7/site-packages (from torchvision==0.6.0+cu101) (7.1.2)\n",
      "Installing collected packages: torch, torchvision\n",
      "  Attempting uninstall: torch\n",
      "    Found existing installation: torch 1.5.0+cu92\n",
      "    Uninstalling torch-1.5.0+cu92:\n",
      "      Successfully uninstalled torch-1.5.0+cu92\n",
      "  Attempting uninstall: torchvision\n",
      "    Found existing installation: torchvision 0.6.0+cu92\n",
      "    Uninstalling torchvision-0.6.0+cu92:\n",
      "      Successfully uninstalled torchvision-0.6.0+cu92\n",
      "Successfully installed torch-1.5.0+cu101 torchvision-0.6.0+cu101\n"
     ]
    }
   ],
   "source": [
    "!pip install torch==1.5.0+cu101 torchvision==0.6.0+cu101 -f https://download.pytorch.org/whl/torch_stable.html"
   ]
  },
  {
   "cell_type": "code",
   "execution_count": null,
   "metadata": {},
   "outputs": [],
   "source": []
  },
  {
   "cell_type": "code",
   "execution_count": null,
   "metadata": {},
   "outputs": [],
   "source": [
    "VGG_11 = torch.hub.load('pytorch/vision:v0.6.0', 'vgg11', pretrained=True)"
   ]
  },
  {
   "cell_type": "code",
   "execution_count": null,
   "metadata": {},
   "outputs": [],
   "source": [
    "class VGG_CAM(nn.Module):\n",
    "    def __init__(self, features = VGG_11.features, n_classes = 3):\n",
    "        super(VGG_CAM, self).__init__()\n",
    "        self.features = features\n",
    "        self.avgpool = nn.AdaptiveAvgPool2d((1, 1))\n",
    "        self.classifier = nn.Linear(512, n_classes)\n",
    "\n",
    "    def forward(self, x):\n",
    "        x = self.features(x)\n",
    "        self.featuremap1 = x.detach()\n",
    "        x = self.avgpool(x)\n",
    "        x = torch.flatten(x, 1)\n",
    "        x = self.classifier(x)\n",
    "        return x"
   ]
  },
  {
   "cell_type": "code",
   "execution_count": null,
   "metadata": {},
   "outputs": [],
   "source": [
    "model = VGG_CAM().to(device)"
   ]
  },
  {
   "cell_type": "code",
   "execution_count": null,
   "metadata": {},
   "outputs": [],
   "source": [
    "model(sample_input)"
   ]
  },
  {
   "cell_type": "code",
   "execution_count": null,
   "metadata": {},
   "outputs": [],
   "source": []
  },
  {
   "cell_type": "code",
   "execution_count": null,
   "metadata": {},
   "outputs": [],
   "source": [
    "def train(model, train_loader=train_loader, val_loader=val_loader, learning_rate=0.0001, num_epoch=10):\n",
    "    start_time = time.time()\n",
    "    loss_fn = nn.CrossEntropyLoss()\n",
    "    optimizer = optim.Adam(model.parameters(),lr=learning_rate)\n",
    "    train_loss_return = []\n",
    "    train_acc_return = []\n",
    "    val_loss_return = []\n",
    "    val_acc_return = []\n",
    "    best_acc = 0\n",
    "    \n",
    "    for epoch in range(num_epoch):\n",
    "        # Training steps\n",
    "        correct = 0\n",
    "        total = 0\n",
    "        predictions = []\n",
    "        truths = []\n",
    "        model.train()\n",
    "        train_loss_list = []\n",
    "        for i, (sample) in enumerate(train_loader):\n",
    "            data = sample['x'].to(device)\n",
    "            labels = sample['y'].to(device)\n",
    "            outputs = model(data)\n",
    "            pred = outputs.data.max(-1)[1]\n",
    "            predictions += list(pred.cpu().numpy())\n",
    "            truths += list(labels.cpu().numpy())\n",
    "            total += labels.size(0)\n",
    "            correct += (pred == labels).sum()\n",
    "            model.zero_grad()\n",
    "            loss = loss_fn(outputs, labels)\n",
    "            train_loss_list.append(loss.item())\n",
    "            loss.backward()\n",
    "            optimizer.step()\n",
    "        # report performance\n",
    "        acc = (100 * correct / total)\n",
    "        train_acc_return.append(acc)\n",
    "        train_loss_every_epoch = np.average(train_loss_list)\n",
    "        train_loss_return.append(train_loss_every_epoch)\n",
    "        print('----------Epoch{:2d}/{:2d}----------'.format(epoch+1,num_epoch))\n",
    "        print('Train set | Loss: {:6.4f} | Accuracy: {:4.2f}% '.format(train_loss_every_epoch, acc))\n",
    "        \n",
    "        # Evaluate after every epochh\n",
    "        correct = 0\n",
    "        total = 0\n",
    "        model.eval()\n",
    "        predictions = []\n",
    "        truths = []\n",
    "        val_loss_list = []\n",
    "        with torch.no_grad():\n",
    "            for i, (sample) in enumerate(val_loader):\n",
    "                data = sample['x'].to(device)\n",
    "                labels = sample['y'].to(device)\n",
    "                outputs = model(data)\n",
    "                loss = loss_fn(outputs, labels)\n",
    "                val_loss_list.append(loss.item())\n",
    "                pred = outputs.data.max(-1)[1]\n",
    "                predictions += list(pred.cpu().numpy())\n",
    "                truths += list(labels.cpu().numpy())\n",
    "                total += labels.size(0)\n",
    "                correct += (pred == labels).sum()\n",
    "            # report performance\n",
    "            acc = (100 * correct / total)\n",
    "            val_acc_return.append(acc)\n",
    "            val_loss_every_epoch = np.average(val_loss_list)\n",
    "            val_loss_return.append(val_loss_every_epoch)\n",
    "            if acc > best_acc:\n",
    "                best_acc = acc\n",
    "                best_model_wts = model.state_dict()\n",
    "            save_model(model,train_loss_return,train_acc_return,val_loss_return,val_acc_return,best_model_wts)\n",
    "            elapse = time.strftime('%H:%M:%S', time.gmtime(int((time.time() - start_time))))\n",
    "            print('Test set | Loss: {:6.4f} | Accuracy: {:4.2f}% | time elapse: {:>9}'\\\n",
    "                  .format(val_loss_every_epoch, acc,elapse))\n",
    "    return model,train_loss_return,train_acc_return,val_loss_return,val_acc_return,best_model_wts\n",
    "\n",
    "def save_model(model,train_loss_return,train_acc_return,val_loss_return,val_acc_return,best_model_wts):\n",
    "    state = {'best_model_wts':best_model_wts, 'model':model, \\\n",
    "             'train_loss':train_loss_return, 'train_acc':train_acc_return,\\\n",
    "             'val_loss':val_loss_return, 'val_acc':val_acc_return}\n",
    "    torch.save(state, 'checkpoint_Analysis2_VGG_CAM.pt')\n",
    "    return None"
   ]
  },
  {
   "cell_type": "code",
   "execution_count": null,
   "metadata": {},
   "outputs": [],
   "source": [
    "train(model, train_loader=train_loader, val_loader=val_loader, learning_rate=0.0001, num_epoch=10)"
   ]
  },
  {
   "cell_type": "code",
   "execution_count": null,
   "metadata": {},
   "outputs": [],
   "source": []
  },
  {
   "cell_type": "code",
   "execution_count": null,
   "metadata": {},
   "outputs": [],
   "source": []
  }
 ],
 "metadata": {
  "kernelspec": {
   "display_name": "Python 3",
   "language": "python",
   "name": "python3"
  },
  "language_info": {
   "codemirror_mode": {
    "name": "ipython",
    "version": 3
   },
   "file_extension": ".py",
   "mimetype": "text/x-python",
   "name": "python",
   "nbconvert_exporter": "python",
   "pygments_lexer": "ipython3",
   "version": "3.7.3"
  }
 },
 "nbformat": 4,
 "nbformat_minor": 4
}
