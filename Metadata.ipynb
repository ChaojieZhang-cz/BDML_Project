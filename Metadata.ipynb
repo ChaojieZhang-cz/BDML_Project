{
 "cells": [
  {
   "cell_type": "code",
   "execution_count": 24,
   "metadata": {},
   "outputs": [],
   "source": [
    "import json\n",
    "import pandas as pd\n",
    "import numpy as np\n",
    "import matplotlib\n",
    "import matplotlib.pyplot as plt\n",
    "import scipy.misc\n",
    "import os\n",
    "import openslide\n",
    "import torch\n",
    "import torch.nn as nn\n",
    "import torch.nn.functional as F\n",
    "from torch import optim\n",
    "import time\n",
    "from torch.utils.data import Dataset, DataLoader"
   ]
  },
  {
   "cell_type": "markdown",
   "metadata": {},
   "source": [
    "path = '/scratch/cz2064/myjupyter/BDML/Project/metadata/biospecimen.cart.2020-03-28.json'\n",
    "with open(path) as f:\n",
    "    data = json.load(f)"
   ]
  },
  {
   "cell_type": "code",
   "execution_count": 2,
   "metadata": {},
   "outputs": [
    {
     "data": {
      "text/html": [
       "<div>\n",
       "<style scoped>\n",
       "    .dataframe tbody tr th:only-of-type {\n",
       "        vertical-align: middle;\n",
       "    }\n",
       "\n",
       "    .dataframe tbody tr th {\n",
       "        vertical-align: top;\n",
       "    }\n",
       "\n",
       "    .dataframe thead th {\n",
       "        text-align: right;\n",
       "    }\n",
       "</style>\n",
       "<table border=\"1\" class=\"dataframe\">\n",
       "  <thead>\n",
       "    <tr style=\"text-align: right;\">\n",
       "      <th></th>\n",
       "      <th>File ID</th>\n",
       "      <th>File Name</th>\n",
       "      <th>Data Category</th>\n",
       "      <th>Data Type</th>\n",
       "      <th>Project ID</th>\n",
       "      <th>Case ID</th>\n",
       "      <th>Sample ID</th>\n",
       "      <th>Sample Type</th>\n",
       "    </tr>\n",
       "  </thead>\n",
       "  <tbody>\n",
       "    <tr>\n",
       "      <th>0</th>\n",
       "      <td>e9760244-3db6-48e1-aa57-f2e2b5352934</td>\n",
       "      <td>TCGA-18-3419-01A-01-BS1.258a5fb6-f212-4a6a-a43...</td>\n",
       "      <td>Biospecimen</td>\n",
       "      <td>Slide Image</td>\n",
       "      <td>TCGA-LUSC</td>\n",
       "      <td>TCGA-18-3419</td>\n",
       "      <td>TCGA-18-3419-01A</td>\n",
       "      <td>Primary Tumor</td>\n",
       "    </tr>\n",
       "    <tr>\n",
       "      <th>1</th>\n",
       "      <td>c9b69594-7be5-4597-8698-7c2880b14b24</td>\n",
       "      <td>TCGA-56-8305-11A-01-TS1.dc4b057e-a254-4147-84c...</td>\n",
       "      <td>Biospecimen</td>\n",
       "      <td>Slide Image</td>\n",
       "      <td>TCGA-LUSC</td>\n",
       "      <td>TCGA-56-8305</td>\n",
       "      <td>TCGA-56-8305-11A</td>\n",
       "      <td>Solid Tissue Normal</td>\n",
       "    </tr>\n",
       "    <tr>\n",
       "      <th>2</th>\n",
       "      <td>79ec2dcc-5ca0-4651-aeac-26db87d4f696</td>\n",
       "      <td>TCGA-34-2600-11A-01-BS1.dd70f786-4ac1-4dfc-b66...</td>\n",
       "      <td>Biospecimen</td>\n",
       "      <td>Slide Image</td>\n",
       "      <td>TCGA-LUSC</td>\n",
       "      <td>TCGA-34-2600</td>\n",
       "      <td>TCGA-34-2600-11A</td>\n",
       "      <td>Solid Tissue Normal</td>\n",
       "    </tr>\n",
       "    <tr>\n",
       "      <th>3</th>\n",
       "      <td>70d0010d-8346-4d48-8620-16bbe3523667</td>\n",
       "      <td>TCGA-77-A5G6-01A-01-TS1.694AEB4E-FE41-4226-899...</td>\n",
       "      <td>Biospecimen</td>\n",
       "      <td>Slide Image</td>\n",
       "      <td>TCGA-LUSC</td>\n",
       "      <td>TCGA-77-A5G6</td>\n",
       "      <td>TCGA-77-A5G6-01A</td>\n",
       "      <td>Primary Tumor</td>\n",
       "    </tr>\n",
       "    <tr>\n",
       "      <th>4</th>\n",
       "      <td>a369fc28-650b-4587-83dc-78fa8875ef16</td>\n",
       "      <td>TCGA-56-A62T-01A-01-TS1.E3B64735-90EE-436F-901...</td>\n",
       "      <td>Biospecimen</td>\n",
       "      <td>Slide Image</td>\n",
       "      <td>TCGA-LUSC</td>\n",
       "      <td>TCGA-56-A62T</td>\n",
       "      <td>TCGA-56-A62T-01A</td>\n",
       "      <td>Primary Tumor</td>\n",
       "    </tr>\n",
       "    <tr>\n",
       "      <th>...</th>\n",
       "      <td>...</td>\n",
       "      <td>...</td>\n",
       "      <td>...</td>\n",
       "      <td>...</td>\n",
       "      <td>...</td>\n",
       "      <td>...</td>\n",
       "      <td>...</td>\n",
       "      <td>...</td>\n",
       "    </tr>\n",
       "    <tr>\n",
       "      <th>2076</th>\n",
       "      <td>95900224-50ab-4d5c-9771-8775401206c8</td>\n",
       "      <td>TCGA-77-8145-01A-01-BS1.1068be69-6ef5-40c1-901...</td>\n",
       "      <td>Biospecimen</td>\n",
       "      <td>Slide Image</td>\n",
       "      <td>TCGA-LUSC</td>\n",
       "      <td>TCGA-77-8145</td>\n",
       "      <td>TCGA-77-8145-01A</td>\n",
       "      <td>Primary Tumor</td>\n",
       "    </tr>\n",
       "    <tr>\n",
       "      <th>2077</th>\n",
       "      <td>7b8a150b-64d2-4a5c-9992-e941635f4db3</td>\n",
       "      <td>TCGA-39-5037-01A-01-TS1.53e009fc-9769-4121-a10...</td>\n",
       "      <td>Biospecimen</td>\n",
       "      <td>Slide Image</td>\n",
       "      <td>TCGA-LUSC</td>\n",
       "      <td>TCGA-39-5037</td>\n",
       "      <td>TCGA-39-5037-01A</td>\n",
       "      <td>Primary Tumor</td>\n",
       "    </tr>\n",
       "    <tr>\n",
       "      <th>2078</th>\n",
       "      <td>a3ad4705-3adb-4e88-b3a7-4b4494632d49</td>\n",
       "      <td>TCGA-96-7544-01A-01-BS1.4c78920d-ef0d-4263-836...</td>\n",
       "      <td>Biospecimen</td>\n",
       "      <td>Slide Image</td>\n",
       "      <td>TCGA-LUSC</td>\n",
       "      <td>TCGA-96-7544</td>\n",
       "      <td>TCGA-96-7544-01A</td>\n",
       "      <td>Primary Tumor</td>\n",
       "    </tr>\n",
       "    <tr>\n",
       "      <th>2079</th>\n",
       "      <td>08fdb4d4-10ef-40a2-8a73-ca32ad432ab5</td>\n",
       "      <td>TCGA-63-5131-01A-01-TS1.93fe90a7-97ec-47ab-967...</td>\n",
       "      <td>Biospecimen</td>\n",
       "      <td>Slide Image</td>\n",
       "      <td>TCGA-LUSC</td>\n",
       "      <td>TCGA-63-5131</td>\n",
       "      <td>TCGA-63-5131-01A</td>\n",
       "      <td>Primary Tumor</td>\n",
       "    </tr>\n",
       "    <tr>\n",
       "      <th>2080</th>\n",
       "      <td>ea0dce3e-7035-4ce1-a819-65383cfbd928</td>\n",
       "      <td>TCGA-85-7950-01A-01-BS1.935598a3-82b5-4c79-b1a...</td>\n",
       "      <td>Biospecimen</td>\n",
       "      <td>Slide Image</td>\n",
       "      <td>TCGA-LUSC</td>\n",
       "      <td>TCGA-85-7950</td>\n",
       "      <td>TCGA-85-7950-01A</td>\n",
       "      <td>Primary Tumor</td>\n",
       "    </tr>\n",
       "  </tbody>\n",
       "</table>\n",
       "<p>2081 rows × 8 columns</p>\n",
       "</div>"
      ],
      "text/plain": [
       "                                   File ID  \\\n",
       "0     e9760244-3db6-48e1-aa57-f2e2b5352934   \n",
       "1     c9b69594-7be5-4597-8698-7c2880b14b24   \n",
       "2     79ec2dcc-5ca0-4651-aeac-26db87d4f696   \n",
       "3     70d0010d-8346-4d48-8620-16bbe3523667   \n",
       "4     a369fc28-650b-4587-83dc-78fa8875ef16   \n",
       "...                                    ...   \n",
       "2076  95900224-50ab-4d5c-9771-8775401206c8   \n",
       "2077  7b8a150b-64d2-4a5c-9992-e941635f4db3   \n",
       "2078  a3ad4705-3adb-4e88-b3a7-4b4494632d49   \n",
       "2079  08fdb4d4-10ef-40a2-8a73-ca32ad432ab5   \n",
       "2080  ea0dce3e-7035-4ce1-a819-65383cfbd928   \n",
       "\n",
       "                                              File Name Data Category  \\\n",
       "0     TCGA-18-3419-01A-01-BS1.258a5fb6-f212-4a6a-a43...   Biospecimen   \n",
       "1     TCGA-56-8305-11A-01-TS1.dc4b057e-a254-4147-84c...   Biospecimen   \n",
       "2     TCGA-34-2600-11A-01-BS1.dd70f786-4ac1-4dfc-b66...   Biospecimen   \n",
       "3     TCGA-77-A5G6-01A-01-TS1.694AEB4E-FE41-4226-899...   Biospecimen   \n",
       "4     TCGA-56-A62T-01A-01-TS1.E3B64735-90EE-436F-901...   Biospecimen   \n",
       "...                                                 ...           ...   \n",
       "2076  TCGA-77-8145-01A-01-BS1.1068be69-6ef5-40c1-901...   Biospecimen   \n",
       "2077  TCGA-39-5037-01A-01-TS1.53e009fc-9769-4121-a10...   Biospecimen   \n",
       "2078  TCGA-96-7544-01A-01-BS1.4c78920d-ef0d-4263-836...   Biospecimen   \n",
       "2079  TCGA-63-5131-01A-01-TS1.93fe90a7-97ec-47ab-967...   Biospecimen   \n",
       "2080  TCGA-85-7950-01A-01-BS1.935598a3-82b5-4c79-b1a...   Biospecimen   \n",
       "\n",
       "        Data Type Project ID       Case ID         Sample ID  \\\n",
       "0     Slide Image  TCGA-LUSC  TCGA-18-3419  TCGA-18-3419-01A   \n",
       "1     Slide Image  TCGA-LUSC  TCGA-56-8305  TCGA-56-8305-11A   \n",
       "2     Slide Image  TCGA-LUSC  TCGA-34-2600  TCGA-34-2600-11A   \n",
       "3     Slide Image  TCGA-LUSC  TCGA-77-A5G6  TCGA-77-A5G6-01A   \n",
       "4     Slide Image  TCGA-LUSC  TCGA-56-A62T  TCGA-56-A62T-01A   \n",
       "...           ...        ...           ...               ...   \n",
       "2076  Slide Image  TCGA-LUSC  TCGA-77-8145  TCGA-77-8145-01A   \n",
       "2077  Slide Image  TCGA-LUSC  TCGA-39-5037  TCGA-39-5037-01A   \n",
       "2078  Slide Image  TCGA-LUSC  TCGA-96-7544  TCGA-96-7544-01A   \n",
       "2079  Slide Image  TCGA-LUSC  TCGA-63-5131  TCGA-63-5131-01A   \n",
       "2080  Slide Image  TCGA-LUSC  TCGA-85-7950  TCGA-85-7950-01A   \n",
       "\n",
       "              Sample Type  \n",
       "0           Primary Tumor  \n",
       "1     Solid Tissue Normal  \n",
       "2     Solid Tissue Normal  \n",
       "3           Primary Tumor  \n",
       "4           Primary Tumor  \n",
       "...                   ...  \n",
       "2076        Primary Tumor  \n",
       "2077        Primary Tumor  \n",
       "2078        Primary Tumor  \n",
       "2079        Primary Tumor  \n",
       "2080        Primary Tumor  \n",
       "\n",
       "[2081 rows x 8 columns]"
      ]
     },
     "execution_count": 2,
     "metadata": {},
     "output_type": "execute_result"
    }
   ],
   "source": [
    "path = '/scratch/cz2064/myjupyter/BDML/Project/metadata/gdc_sample_sheet.2020-03-28.tsv'\n",
    "df = pd.read_csv(path, sep='\\t')\n",
    "df\n",
    "# data -> File ID -> File Name"
   ]
  },
  {
   "cell_type": "code",
   "execution_count": null,
   "metadata": {},
   "outputs": [],
   "source": []
  },
  {
   "cell_type": "code",
   "execution_count": null,
   "metadata": {},
   "outputs": [],
   "source": []
  },
  {
   "cell_type": "code",
   "execution_count": 3,
   "metadata": {},
   "outputs": [
    {
     "data": {
      "text/plain": [
       "'e9760244-3db6-48e1-aa57-f2e2b5352934'"
      ]
     },
     "execution_count": 3,
     "metadata": {},
     "output_type": "execute_result"
    }
   ],
   "source": [
    "df.loc[0]['File ID']"
   ]
  },
  {
   "cell_type": "code",
   "execution_count": 4,
   "metadata": {},
   "outputs": [
    {
     "data": {
      "text/plain": [
       "'TCGA-18-3419-01A-01-BS1.258a5fb6-f212-4a6a-a43a-75541f043038.svs'"
      ]
     },
     "execution_count": 4,
     "metadata": {},
     "output_type": "execute_result"
    }
   ],
   "source": [
    "df.loc[0]['File Name']"
   ]
  },
  {
   "cell_type": "code",
   "execution_count": null,
   "metadata": {},
   "outputs": [],
   "source": []
  },
  {
   "cell_type": "code",
   "execution_count": 5,
   "metadata": {},
   "outputs": [
    {
     "data": {
      "text/plain": [
       "'c9b69594-7be5-4597-8698-7c2880b14b24'"
      ]
     },
     "execution_count": 5,
     "metadata": {},
     "output_type": "execute_result"
    }
   ],
   "source": [
    "df.loc[1]['File ID']"
   ]
  },
  {
   "cell_type": "code",
   "execution_count": 6,
   "metadata": {},
   "outputs": [
    {
     "data": {
      "text/plain": [
       "'TCGA-56-8305-11A-01-TS1.dc4b057e-a254-4147-84ce-4542c61d81ce.svs'"
      ]
     },
     "execution_count": 6,
     "metadata": {},
     "output_type": "execute_result"
    }
   ],
   "source": [
    "df.loc[1]['File Name']"
   ]
  },
  {
   "cell_type": "code",
   "execution_count": null,
   "metadata": {},
   "outputs": [],
   "source": []
  },
  {
   "cell_type": "code",
   "execution_count": null,
   "metadata": {},
   "outputs": [],
   "source": []
  },
  {
   "cell_type": "code",
   "execution_count": 7,
   "metadata": {},
   "outputs": [],
   "source": [
    "# divide the dataframe into 21 sub_df, to make the preprocess faster\n",
    "number_of_sub_df = int(len(df)/100)+1\n",
    "for i in range(number_of_sub_df):\n",
    "    sub_df = df.loc[i*100:(i+1)*100]\n",
    "    path = '/scratch/cz2064/myjupyter/BDML/Project/metadata/Preprocess_sub_dataframe/'\n",
    "    sub_df_file_name = 'df'+ str(i) +'.csv'\n",
    "    pd.DataFrame.to_csv(sub_df,path+sub_df_file_name)"
   ]
  },
  {
   "cell_type": "code",
   "execution_count": null,
   "metadata": {},
   "outputs": [],
   "source": []
  },
  {
   "cell_type": "code",
   "execution_count": 27,
   "metadata": {},
   "outputs": [
    {
     "data": {
      "text/plain": [
       "(36238, 47808, 3)"
      ]
     },
     "execution_count": 27,
     "metadata": {},
     "output_type": "execute_result"
    }
   ],
   "source": [
    "number = 1\n",
    "imgage_folder = '/scratch/cz2064/myjupyter/BDML/Project/data/'\n",
    "df_path = '/scratch/cz2064/myjupyter/BDML/Project/metadata/Preprocess_sub_dataframe/df' + str(number) +'.csv'\n",
    "df = pd.read_csv(df_path, sep=',')\n",
    "for i in df.index:\n",
    "    file_id = df.loc[i,'File ID']\n",
    "    file_name = df.loc[i,'File Name']\n",
    "    sample_image = openslide.open_slide(imgage_folder+file_id+'/'+file_name)\n",
    "    sample_image = np.array(sample_image.get_thumbnail(sample_image.dimensions))\n",
    "    image_dimensions = sample_image.shape[:2]\n",
    "    pixels = 1024\n",
    "    valid_subsamples_count = 0\n",
    "    valid_subsamples = []\n",
    "    for i in range(int(image_dimensions[0]/pixels)):\n",
    "        for j in range(int(image_dimensions[1]/pixels)):\n",
    "            sub_image_array = sample_image[i*pixels:(i+1)*pixels,j*pixels:(j+1)*pixels,:]\n",
    "            if white_ratio(sub_image_array) < 0.5:\n",
    "                subsample_file_name = 'subsample'+ str(valid_subsamples_count)\n",
    "                save_file = imgage_folder + file_id + '/' + subsample_file_name + '.jpg'\n",
    "                matplotlib.image.imsave(save_file, sub_image_array)\n",
    "                valid_subsamples_count = valid_subsamples_count + 1\n",
    "                valid_subsamples.append(subsample_file_name)\n",
    "    summary_file = imgage_folder + file_id + '/' + 'subsamples_list.txt'\n",
    "    f = open(summary_file,\"w\")\n",
    "    for i in valid_subsamples:\n",
    "        i = i + '\\n'\n",
    "        f.write(i)\n",
    "    f.close()"
   ]
  },
  {
   "cell_type": "code",
   "execution_count": null,
   "metadata": {},
   "outputs": [],
   "source": [
    "df.head()"
   ]
  },
  {
   "cell_type": "code",
   "execution_count": null,
   "metadata": {},
   "outputs": [],
   "source": [
    "# creat subsamples\n",
    "imgage_folder = '/scratch/cz2064/myjupyter/BDML/Project/data/'\n",
    "file_id = 'c9b69594-7be5-4597-8698-7c2880b14b24'\n",
    "file_name = 'TCGA-56-8305-11A-01-TS1.dc4b057e-a254-4147-84ce-4542c61d81ce.svs'\n",
    "sample_image = openslide.open_slide(imgage_folder+file_id+'/'+file_name)\n",
    "sample_image = np.array(sample_image.get_thumbnail(sample_image.dimensions))\n",
    "image_dimensions = sample_image.shape[:2]\n",
    "pixels = 1024\n",
    "valid_subsamples_count = 0\n",
    "valid_subsamples = []\n",
    "for i in range(int(image_dimensions[0]/pixels)):\n",
    "    for j in range(int(image_dimensions[1]/pixels)):\n",
    "        sub_image_array = sample_image[i*pixels:(i+1)*pixels,j*pixels:(j+1)*pixels,:]\n",
    "        if white_ratio(sub_image_array) < 0.5:\n",
    "            subsample_file_name = 'subsample'+ str(valid_subsamples_count)\n",
    "            save_file = imgage_folder + file_id + '/' + subsample_file_name + '.jpg'\n",
    "            matplotlib.image.imsave(save_file, sub_image_array)\n",
    "            valid_subsamples_count = valid_subsamples_count + 1\n",
    "            valid_subsamples.append(subsample_file_name)\n",
    "summary_file = imgage_folder + file_id + '/' + 'subsamples_list.txt'\n",
    "f = open(summary_file,\"w\")\n",
    "for i in valid_subsamples:\n",
    "    i = i + '\\n'\n",
    "    f.write(i)\n",
    "f.close()"
   ]
  },
  {
   "cell_type": "code",
   "execution_count": null,
   "metadata": {},
   "outputs": [],
   "source": []
  },
  {
   "cell_type": "code",
   "execution_count": null,
   "metadata": {},
   "outputs": [],
   "source": []
  },
  {
   "cell_type": "code",
   "execution_count": null,
   "metadata": {},
   "outputs": [],
   "source": []
  },
  {
   "cell_type": "code",
   "execution_count": null,
   "metadata": {},
   "outputs": [],
   "source": []
  }
 ],
 "metadata": {
  "kernelspec": {
   "display_name": "Python 3",
   "language": "python",
   "name": "python3"
  },
  "language_info": {
   "codemirror_mode": {
    "name": "ipython",
    "version": 3
   },
   "file_extension": ".py",
   "mimetype": "text/x-python",
   "name": "python",
   "nbconvert_exporter": "python",
   "pygments_lexer": "ipython3",
   "version": "3.6.10"
  }
 },
 "nbformat": 4,
 "nbformat_minor": 2
}
