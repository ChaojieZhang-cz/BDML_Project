{
 "cells": [
  {
   "cell_type": "code",
   "execution_count": 1,
   "metadata": {},
   "outputs": [],
   "source": [
    "import pandas as pd\n",
    "import numpy as np\n",
    "import matplotlib\n",
    "import matplotlib.pyplot as plt\n",
    "import scipy.misc\n",
    "import os\n",
    "from PIL import Image\n",
    "import torch\n",
    "import torch.nn as nn\n",
    "import torch.nn.functional as F\n",
    "from torch import optim\n",
    "import time\n",
    "from torch.utils.data import Dataset, DataLoader\n",
    "import torchvision.transforms as transforms\n",
    "import torchvision.models as models\n",
    "import cv2\n",
    "import pickle"
   ]
  },
  {
   "cell_type": "code",
   "execution_count": 2,
   "metadata": {},
   "outputs": [],
   "source": [
    "device = torch.device('cuda')"
   ]
  },
  {
   "cell_type": "code",
   "execution_count": 3,
   "metadata": {},
   "outputs": [],
   "source": [
    "from sklearn.preprocessing import label_binarize\n",
    "from sklearn.utils.multiclass import unique_labels\n",
    "from sklearn.metrics import confusion_matrix\n",
    "from sklearn.metrics import roc_curve, auc\n",
    "from itertools import cycle\n",
    "import warnings\n",
    "warnings.filterwarnings('ignore')\n",
    "\n",
    "def evaluate_model(model, dataloader):   \n",
    "    model.eval()\n",
    "    y_test_label = []\n",
    "    y_test = []\n",
    "    y_score = []\n",
    "    pre = []\n",
    "    for i, (data) in enumerate(dataloader):\n",
    "        image = data['x'].to(device,dtype=torch.float)\n",
    "        label = data['y'].to('cpu',dtype=torch.long)\n",
    "        y_test_label = y_test_label+label.tolist()\n",
    "        label = label_binarize(label, classes=[0, 1, 2])\n",
    "        if y_test == []:\n",
    "            y_test=label\n",
    "        else:\n",
    "            y_test = np.concatenate((y_test,label),axis = 0)\n",
    "        output = model(image)\n",
    "        output = F.softmax(output,dim=1)\n",
    "        output = output.to('cpu')\n",
    "        if y_score == []:\n",
    "            y_score=np.array(output.detach().numpy())\n",
    "        else:\n",
    "            y_score = np.concatenate((y_score,output.detach().numpy()),axis = 0)\n",
    "    for i in y_score:\n",
    "        pre.append(list(i).index(max(i)))\n",
    "    return y_test_label,y_test,pre,y_score\n",
    "\n",
    "# https://scikit-learn.org/stable/auto_examples/model_selection/plot_roc.html\n",
    "def ROC_curve(y_test,y_score):\n",
    "    fpr = dict()\n",
    "    tpr = dict()\n",
    "    roc_auc = dict()\n",
    "    n_classes = y_test.shape[1]\n",
    "    for i in range(n_classes):\n",
    "        fpr[i], tpr[i], _ = roc_curve(y_test[:, i], y_score[:, i])\n",
    "        roc_auc[i] = auc(fpr[i], tpr[i])\n",
    "\n",
    "    colors = cycle(['aqua', 'darkorange', 'cornflowerblue'])\n",
    "    lw = 2\n",
    "    for i, color in zip(range(n_classes), colors):\n",
    "        plt.plot(fpr[i], tpr[i], color=color, lw=lw,\n",
    "                 label='ROC curve of class {0} (area = {1:0.2f})'\n",
    "                 ''.format(i, roc_auc[i]))\n",
    "    plt.plot([0, 1], [0, 1], 'k--', lw=lw)\n",
    "    plt.xlim([0.0, 1.0])\n",
    "    plt.ylim([0.0, 1.05])\n",
    "    plt.xlabel('False Positive Rate')\n",
    "    plt.ylabel('True Positive Rate')\n",
    "    plt.title('Some extension of Receiver operating characteristic to multi-class')\n",
    "    plt.legend(loc=\"lower right\")\n",
    "    plt.show()\n",
    "    return None\n",
    "\n",
    "# https://scikit-learn.org/stable/auto_examples/model_selection/plot_confusion_matrix.html\n",
    "def plot_confusion_matrix(y_true, y_pred, classes,\n",
    "                          normalize=True,\n",
    "                          title=None,\n",
    "                          cmap=plt.cm.Blues):\n",
    "    \"\"\"\n",
    "    This function prints and plots the confusion matrix.\n",
    "    Normalization can be applied by setting `normalize=True`.\n",
    "    \"\"\"\n",
    "    if not title:\n",
    "        if normalize:\n",
    "            title = 'Normalized confusion matrix'\n",
    "        else:\n",
    "            title = 'Confusion matrix, without normalization'\n",
    "\n",
    "    # Compute confusion matrix\n",
    "    cm = confusion_matrix(y_true, y_pred)\n",
    "    # Only use the labels that appear in the data\n",
    "    #classes = classes[unique_labels(y_true, y_pred)]\n",
    "    if normalize:\n",
    "        cm = cm.astype('float') / cm.sum(axis=1)[:, np.newaxis]\n",
    "        #print(\"Normalized confusion matrix\")\n",
    "    else:\n",
    "        pass\n",
    "        #print('Confusion matrix, without normalization')\n",
    "\n",
    "    #print(cm)\n",
    "    #print(cm.shape)\n",
    "\n",
    "    fig, ax = plt.subplots()\n",
    "    im = ax.imshow(cm, interpolation='nearest', cmap=cmap)\n",
    "    ax.figure.colorbar(im, ax=ax)\n",
    "    # We want to show all ticks...\n",
    "    ax.set(xticks=np.arange(cm.shape[1]),\n",
    "           yticks=np.arange(-0.5, cm.shape[0]),\n",
    "           # ... and label them with the respective list entries\n",
    "           xticklabels=classes, yticklabels=classes,\n",
    "           title=title,\n",
    "           ylabel='True label',\n",
    "           xlabel='Predicted label')\n",
    "\n",
    "    # Rotate the tick labels and set their alignment.\n",
    "    plt.setp(ax.get_xticklabels(), rotation=45, ha=\"right\",\n",
    "             rotation_mode=\"anchor\")\n",
    "\n",
    "    # Loop over data dimensions and create text annotations.\n",
    "    fmt = '.2f' if normalize else 'd'\n",
    "    thresh = cm.max() / 2.\n",
    "    for i in range(cm.shape[0]):\n",
    "        for j in range(cm.shape[1]):\n",
    "            ax.text(j, i, format(cm[i, j], fmt),\n",
    "                    ha=\"center\", va=\"center\",\n",
    "                    color=\"white\" if cm[i, j] > thresh else \"black\")\n",
    "    fig.tight_layout()\n",
    "    return None"
   ]
  },
  {
   "cell_type": "code",
   "execution_count": null,
   "metadata": {},
   "outputs": [],
   "source": []
  },
  {
   "cell_type": "code",
   "execution_count": null,
   "metadata": {},
   "outputs": [],
   "source": []
  },
  {
   "cell_type": "code",
   "execution_count": 4,
   "metadata": {},
   "outputs": [
    {
     "name": "stderr",
     "output_type": "stream",
     "text": [
      "Using cache found in /home/cz2064/.cache/torch/hub/pytorch_vision_v0.6.0\n"
     ]
    }
   ],
   "source": [
    "VGG_11 = torch.hub.load('pytorch/vision:v0.6.0', 'vgg11_bn', pretrained=True)\n",
    "class VGG_CAM(nn.Module):\n",
    "    def __init__(self, features = VGG_11.features, n_classes = 3):\n",
    "        super(VGG_CAM, self).__init__()\n",
    "        self.features = features\n",
    "        self.avgpool = nn.AdaptiveAvgPool2d((1, 1))\n",
    "        self.classifier = nn.Linear(512, n_classes,bias=False)\n",
    "            \n",
    "    def forward(self, x):\n",
    "        x = self.features(x)\n",
    "        self.featuremap1 = x.detach()\n",
    "        x = self.avgpool(x)\n",
    "        x = torch.flatten(x, 1)\n",
    "        x = self.classifier(x)\n",
    "        return x\n",
    "    \n",
    "preprocess = transforms.Compose([\n",
    "    transforms.CenterCrop(1024),\n",
    "    transforms.ToTensor(),\n",
    "    transforms.Normalize(mean=[0.485, 0.456, 0.406], std=[0.229, 0.224, 0.225]),])"
   ]
  },
  {
   "cell_type": "code",
   "execution_count": null,
   "metadata": {},
   "outputs": [],
   "source": []
  },
  {
   "cell_type": "code",
   "execution_count": 5,
   "metadata": {},
   "outputs": [],
   "source": [
    "model = VGG_CAM().to(device)\n",
    "files = torch.load('/scratch/cz2064/myjupyter/BDML/Project/Phase5/Jupyter_Notebook/Analysis_1_c_new/Python File/checkpoint_Model.pt', map_location='cpu')\n",
    "model_1_weight = files['best_model_wts']\n",
    "files = torch.load('/scratch/cz2064/myjupyter/BDML/Project/Phase4/Jupyter_Notebook/Analysis_2/Python File/checkpoint_Model.pt', map_location='cpu')\n",
    "model_2_weight = files['best_model_wts']"
   ]
  },
  {
   "cell_type": "code",
   "execution_count": 6,
   "metadata": {},
   "outputs": [
    {
     "data": {
      "text/plain": [
       "<All keys matched successfully>"
      ]
     },
     "execution_count": 6,
     "metadata": {},
     "output_type": "execute_result"
    }
   ],
   "source": [
    "model.load_state_dict(model_1_weight)"
   ]
  },
  {
   "cell_type": "code",
   "execution_count": null,
   "metadata": {},
   "outputs": [],
   "source": []
  },
  {
   "cell_type": "code",
   "execution_count": null,
   "metadata": {},
   "outputs": [],
   "source": []
  },
  {
   "cell_type": "code",
   "execution_count": null,
   "metadata": {},
   "outputs": [],
   "source": []
  },
  {
   "cell_type": "code",
   "execution_count": null,
   "metadata": {},
   "outputs": [],
   "source": []
  },
  {
   "cell_type": "code",
   "execution_count": 8,
   "metadata": {},
   "outputs": [],
   "source": [
    "def subimages_score(cam,resize_height,resize_width,subimages_files,resolution):\n",
    "    subimages_score_dict = {}\n",
    "    cam = cv2.resize(cam, (resize_width,resize_height))\n",
    "    r = int(resolution)\n",
    "    for i in range(int(resize_height/r)):\n",
    "        for j in range(int(resize_width/r)):\n",
    "            sub_cam = cam[i*r:(i+1)*r,j*r:(j+1)*r]\n",
    "            #print(i)\n",
    "            if 'subsample_' + str(j) + '_' + str(i) + '.jpg\\n' in subimages_files:\n",
    "                subimages_score_dict['subsample_' + str(j) + '_' + str(i) + '.jpg'] = np.mean(sub_cam)\n",
    "    return subimages_score_dict\n",
    "\n",
    "def top_subimages(subimages_score_dict,top_number=1):\n",
    "    top_subimages_list = []\n",
    "    scores = list(subimages_score_dict.values())\n",
    "    scores.sort()\n",
    "    for key in subimages_score_dict.keys():\n",
    "        if subimages_score_dict[key] in scores[-top_number:]:\n",
    "            top_subimages_list.append(key)\n",
    "    return top_subimages_list"
   ]
  },
  {
   "cell_type": "code",
   "execution_count": null,
   "metadata": {},
   "outputs": [],
   "source": []
  },
  {
   "cell_type": "code",
   "execution_count": 9,
   "metadata": {},
   "outputs": [],
   "source": [
    "f = open('/scratch/cz2064/myjupyter/BDML/Project/Phase4/Jupyter_Notebook/Analysis_2/Python File/model_eval.txt','rb')\n",
    "save_dict = pickle.load(f)  \n",
    "f.close()\n",
    "y_test_label = save_dict['y_test_label']\n",
    "y_test = save_dict['y_test']\n",
    "pre = save_dict['pre']\n",
    "y_score = save_dict['y_score']"
   ]
  },
  {
   "cell_type": "code",
   "execution_count": null,
   "metadata": {},
   "outputs": [],
   "source": []
  },
  {
   "cell_type": "code",
   "execution_count": null,
   "metadata": {},
   "outputs": [],
   "source": []
  },
  {
   "cell_type": "code",
   "execution_count": null,
   "metadata": {},
   "outputs": [],
   "source": []
  },
  {
   "cell_type": "code",
   "execution_count": null,
   "metadata": {},
   "outputs": [],
   "source": []
  },
  {
   "cell_type": "code",
   "execution_count": null,
   "metadata": {},
   "outputs": [],
   "source": []
  },
  {
   "cell_type": "code",
   "execution_count": 10,
   "metadata": {},
   "outputs": [],
   "source": [
    "test_df_path = '/scratch/cz2064/myjupyter/BDML/Project/Phase5/Train_Test_Split/test.csv'\n",
    "test_df = pd.read_csv(test_df_path)\n",
    "test_subimages_df_path = '/scratch/cz2064/myjupyter/BDML/Project/Phase5/Train_Test_Split/test_subimages.csv'\n",
    "test_subimages_df = pd.read_csv(test_subimages_df_path)"
   ]
  },
  {
   "cell_type": "code",
   "execution_count": null,
   "metadata": {},
   "outputs": [],
   "source": []
  },
  {
   "cell_type": "code",
   "execution_count": 11,
   "metadata": {},
   "outputs": [],
   "source": [
    "samples_score = []\n",
    "for idx in test_df.index:\n",
    "    sample = test_df.loc[[idx]]\n",
    "    imgage_folder = '/scratch/cz2064/myjupyter/BDML/Project/Data/data_1024/'\n",
    "    file_id = sample['File ID'].values[0]\n",
    "    file_name = sample['File Name'].values[0]\n",
    "    image_path = imgage_folder + file_id + '/' + file_name[:-4] + '_1024.jpg'\n",
    "    image = Image.open(image_path)\n",
    "    image_tensor = preprocess(image).unsqueeze(0)\n",
    "    sample_input = image_tensor.to(device,dtype=torch.float)\n",
    "    sample_lable = sample['label'].values[0]\n",
    "    model.load_state_dict(model_1_weight)\n",
    "    model.eval()\n",
    "    output = model(sample_input)\n",
    "    pre_class = output.data.max(-1)[1].cpu().numpy()\n",
    "    Feature_map = model.featuremap1.cpu().numpy()\n",
    "    params = list(model.parameters())\n",
    "    weight_softmax = np.squeeze(params[-1].data.cpu().numpy())\n",
    "    # Feature map 1\n",
    "    weights_map1 = weight_softmax[0]\n",
    "    cam_1 = weights_map1.dot(Feature_map.reshape((512,32*32)))\n",
    "    cam_1 = cam_1.reshape(32,32)\n",
    "    # Feature map 2\n",
    "    weights_map2 = weight_softmax[1]\n",
    "    cam_2 = weights_map2.dot(Feature_map.reshape((512,32*32)))\n",
    "    cam_2 = cam_2.reshape(32,32)\n",
    "    # Feature map 3\n",
    "    weights_map3 = weight_softmax[2]\n",
    "    cam_3 = weights_map3.dot(Feature_map.reshape((512,32*32)))\n",
    "    cam_3 = cam_3.reshape(32,32)\n",
    "    subsample_info_file = '/scratch/cz2064/myjupyter/BDML/Project/Data/data_subimages/' + file_id + '/subsamples_list.txt'\n",
    "    file = open(subsample_info_file, \"r\")\n",
    "    subsample_info = file.readlines()\n",
    "    info = subsample_info[0].strip('\\n').strip('level_dimensions:').replace('(',' ').replace(')',' ').replace(',',' ').split()\n",
    "    subimages_files = subsample_info[2:]\n",
    "    file.close()\n",
    "    height = int(info[1])\n",
    "    width = int(info[0])\n",
    "    pixel = 2048\n",
    "    resolution = 2048/256\n",
    "    resize_height = int(height/256)\n",
    "    resize_width = int(width/256)\n",
    "    subimages_score_dict_1 = subimages_score(cam_1,resize_height,resize_width,subimages_files,resolution)\n",
    "    top_subimages_list_1 = top_subimages(subimages_score_dict_1)\n",
    "    subimages_score_dict_2 = subimages_score(cam_2,resize_height,resize_width,subimages_files,resolution)\n",
    "    top_subimages_list_2 = top_subimages(subimages_score_dict_2)\n",
    "    subimages_score_dict_3 = subimages_score(cam_3,resize_height,resize_width,subimages_files,resolution)\n",
    "    top_subimages_list_3 = top_subimages(subimages_score_dict_3)\n",
    "    top_subimages_list = top_subimages_list_1 + top_subimages_list_2 + top_subimages_list_3\n",
    "    top_subimages_list = list(set(top_subimages_list))\n",
    "    subimages_df = test_subimages_df.loc[test_subimages_df['File Name'] == file_name]\n",
    "    subimages_df = subimages_df.loc[subimages_df['Subimage File'].apply(lambda x: x in top_subimages_list)]\n",
    "    subimages_scores = []\n",
    "    for i in subimages_df.index:\n",
    "        if subimages_scores == []:\n",
    "            subimages_scores = np.array([y_score[i]])\n",
    "        else:\n",
    "            subimages_scores = np.concatenate((subimages_scores,np.array([y_score[i]])),axis=0)\n",
    "    whole_image_score = np.array([np.mean(subimages_scores,axis=0)])\n",
    "    if samples_score == []:\n",
    "        samples_score = whole_image_score\n",
    "    else:\n",
    "        samples_score = np.concatenate((samples_score,whole_image_score),axis=0)"
   ]
  },
  {
   "cell_type": "code",
   "execution_count": 12,
   "metadata": {},
   "outputs": [],
   "source": [
    "samples_label = label_binarize(test_df['label'].values, classes=[0, 1, 2])"
   ]
  },
  {
   "cell_type": "code",
   "execution_count": 13,
   "metadata": {},
   "outputs": [
    {
     "data": {
      "image/png": "[encoded data removed]",
      "text/plain": [
       "<Figure size 432x288 with 1 Axes>"
      ]
     },
     "metadata": {
      "needs_background": "light"
     },
     "output_type": "display_data"
    }
   ],
   "source": [
    "ROC_curve(samples_label,samples_score)"
   ]
  },
  {
   "cell_type": "code",
   "execution_count": 14,
   "metadata": {},
   "outputs": [
    {
     "data": {
      "image/png": "[encoded data removed]",
      "text/plain": [
       "<Figure size 432x288 with 2 Axes>"
      ]
     },
     "metadata": {
      "needs_background": "light"
     },
     "output_type": "display_data"
    }
   ],
   "source": [
    "test_label = test_df['label'].values.tolist()\n",
    "pre = []\n",
    "for i in samples_score:\n",
    "    pre.append(list(i).index(max(i)))\n",
    "classes = ['Normal','LUSC','LUAD']\n",
    "plot_confusion_matrix(test_label, pre, classes)"
   ]
  },
  {
   "cell_type": "code",
   "execution_count": 15,
   "metadata": {},
   "outputs": [
    {
     "data": {
      "image/png": "[encoded data removed]",
      "text/plain": [
       "<Figure size 432x288 with 2 Axes>"
      ]
     },
     "metadata": {
      "needs_background": "light"
     },
     "output_type": "display_data"
    }
   ],
   "source": [
    "plot_confusion_matrix(test_label, pre, classes,normalize=False)"
   ]
  },
  {
   "cell_type": "code",
   "execution_count": null,
   "metadata": {},
   "outputs": [],
   "source": []
  },
  {
   "cell_type": "code",
   "execution_count": null,
   "metadata": {},
   "outputs": [],
   "source": []
  },
  {
   "cell_type": "code",
   "execution_count": null,
   "metadata": {},
   "outputs": [],
   "source": []
  },
  {
   "cell_type": "code",
   "execution_count": null,
   "metadata": {},
   "outputs": [],
   "source": []
  },
  {
   "cell_type": "code",
   "execution_count": null,
   "metadata": {},
   "outputs": [],
   "source": []
  },
  {
   "cell_type": "code",
   "execution_count": null,
   "metadata": {},
   "outputs": [],
   "source": []
  },
  {
   "cell_type": "code",
   "execution_count": null,
   "metadata": {},
   "outputs": [],
   "source": []
  },
  {
   "cell_type": "code",
   "execution_count": null,
   "metadata": {},
   "outputs": [],
   "source": []
  },
  {
   "cell_type": "code",
   "execution_count": null,
   "metadata": {},
   "outputs": [],
   "source": []
  },
  {
   "cell_type": "code",
   "execution_count": null,
   "metadata": {},
   "outputs": [],
   "source": []
  },
  {
   "cell_type": "code",
   "execution_count": null,
   "metadata": {},
   "outputs": [],
   "source": []
  },
  {
   "cell_type": "code",
   "execution_count": null,
   "metadata": {},
   "outputs": [],
   "source": []
  }
 ],
 "metadata": {
  "kernelspec": {
   "display_name": "Python 3",
   "language": "python",
   "name": "python3"
  },
  "language_info": {
   "codemirror_mode": {
    "name": "ipython",
    "version": 3
   },
   "file_extension": ".py",
   "mimetype": "text/x-python",
   "name": "python",
   "nbconvert_exporter": "python",
   "pygments_lexer": "ipython3",
   "version": "3.6.10"
  }
 },
 "nbformat": 4,
 "nbformat_minor": 4
}
