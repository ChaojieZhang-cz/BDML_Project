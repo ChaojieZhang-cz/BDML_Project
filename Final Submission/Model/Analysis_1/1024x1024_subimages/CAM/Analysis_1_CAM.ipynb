{
 "cells": [
  {
   "cell_type": "code",
   "execution_count": 1,
   "metadata": {},
   "outputs": [],
   "source": [
    "import pandas as pd\n",
    "import numpy as np\n",
    "import matplotlib\n",
    "import matplotlib.pyplot as plt\n",
    "import scipy.misc\n",
    "import os\n",
    "from PIL import Image\n",
    "import torch\n",
    "import torch.nn as nn\n",
    "import torch.nn.functional as F\n",
    "from torch import optim\n",
    "import time\n",
    "from torch.utils.data import Dataset, DataLoader\n",
    "import torchvision.transforms as transforms\n",
    "import torchvision.models as models\n",
    "import cv2"
   ]
  },
  {
   "cell_type": "code",
   "execution_count": 2,
   "metadata": {},
   "outputs": [],
   "source": [
    "device = torch.device('cuda')"
   ]
  },
  {
   "cell_type": "code",
   "execution_count": null,
   "metadata": {},
   "outputs": [],
   "source": []
  },
  {
   "cell_type": "code",
   "execution_count": 3,
   "metadata": {},
   "outputs": [
    {
     "name": "stdout",
     "output_type": "stream",
     "text": [
      "/scratch/cz2064/myjupyter/BDML/Project/Phase5/Jupyter_Notebook/Analysis_1\r\n"
     ]
    }
   ],
   "source": [
    "!pwd"
   ]
  },
  {
   "cell_type": "code",
   "execution_count": null,
   "metadata": {},
   "outputs": [],
   "source": []
  },
  {
   "cell_type": "code",
   "execution_count": null,
   "metadata": {},
   "outputs": [],
   "source": []
  },
  {
   "cell_type": "code",
   "execution_count": 4,
   "metadata": {},
   "outputs": [
    {
     "name": "stderr",
     "output_type": "stream",
     "text": [
      "Using cache found in /home/cz2064/.cache/torch/hub/pytorch_vision_v0.6.0\n",
      "/scratch/cz2064/envs/BDML_pip/lib/python3.6/site-packages/torch/serialization.py:623: UserWarning: Couldn't retrieve source code for container of type VGG_CAM. It won't be checked for correctness upon loading.\n",
      "  \"type \" + container_type.__name__ + \". It won't be checked \"\n"
     ]
    },
    {
     "data": {
      "text/plain": [
       "<All keys matched successfully>"
      ]
     },
     "execution_count": 4,
     "metadata": {},
     "output_type": "execute_result"
    }
   ],
   "source": [
    "VGG_11 = torch.hub.load('pytorch/vision:v0.6.0', 'vgg11_bn', pretrained=True)\n",
    "class VGG_CAM(nn.Module):\n",
    "    def __init__(self, features = VGG_11.features, n_classes = 3):\n",
    "        super(VGG_CAM, self).__init__()\n",
    "        self.features = features\n",
    "        self.avgpool = nn.AdaptiveAvgPool2d((1, 1))\n",
    "        self.classifier = nn.Linear(512, n_classes,bias=False)\n",
    "            \n",
    "    def forward(self, x):\n",
    "        x = self.features(x)\n",
    "        self.featuremap1 = x.detach()\n",
    "        x = self.avgpool(x)\n",
    "        x = torch.flatten(x, 1)\n",
    "        x = self.classifier(x)\n",
    "        return x\n",
    "\n",
    "model = VGG_CAM().to(device)\n",
    "files = torch.load('./Python File/checkpoint_Model.pt', map_location='cpu')\n",
    "model.load_state_dict(files['best_model_wts'])"
   ]
  },
  {
   "cell_type": "code",
   "execution_count": null,
   "metadata": {},
   "outputs": [],
   "source": []
  },
  {
   "cell_type": "code",
   "execution_count": null,
   "metadata": {},
   "outputs": [],
   "source": []
  },
  {
   "cell_type": "code",
   "execution_count": null,
   "metadata": {},
   "outputs": [],
   "source": []
  },
  {
   "cell_type": "code",
   "execution_count": null,
   "metadata": {},
   "outputs": [],
   "source": []
  },
  {
   "cell_type": "code",
   "execution_count": 5,
   "metadata": {},
   "outputs": [
    {
     "data": {
      "text/html": [
       "<div>\n",
       "<style scoped>\n",
       "    .dataframe tbody tr th:only-of-type {\n",
       "        vertical-align: middle;\n",
       "    }\n",
       "\n",
       "    .dataframe tbody tr th {\n",
       "        vertical-align: top;\n",
       "    }\n",
       "\n",
       "    .dataframe thead th {\n",
       "        text-align: right;\n",
       "    }\n",
       "</style>\n",
       "<table border=\"1\" class=\"dataframe\">\n",
       "  <thead>\n",
       "    <tr style=\"text-align: right;\">\n",
       "      <th></th>\n",
       "      <th>File ID</th>\n",
       "      <th>File Name</th>\n",
       "      <th>Data Category</th>\n",
       "      <th>Data Type</th>\n",
       "      <th>Project ID</th>\n",
       "      <th>Case ID</th>\n",
       "      <th>Sample ID</th>\n",
       "      <th>Sample Type</th>\n",
       "      <th>type</th>\n",
       "      <th>label</th>\n",
       "    </tr>\n",
       "  </thead>\n",
       "  <tbody>\n",
       "    <tr>\n",
       "      <th>0</th>\n",
       "      <td>b05abef8-826a-4381-88a4-9920b2df8d3f</td>\n",
       "      <td>TCGA-60-2725-01A-01-TS1.47dfda47-c072-46cb-80d...</td>\n",
       "      <td>Biospecimen</td>\n",
       "      <td>Slide Image</td>\n",
       "      <td>TCGA-LUSC</td>\n",
       "      <td>TCGA-60-2725</td>\n",
       "      <td>TCGA-60-2725-01A</td>\n",
       "      <td>Primary Tumor</td>\n",
       "      <td>Tumor-LUSC</td>\n",
       "      <td>1</td>\n",
       "    </tr>\n",
       "    <tr>\n",
       "      <th>1</th>\n",
       "      <td>7dd02309-79ba-450f-8b13-789dbb8fb61a</td>\n",
       "      <td>TCGA-60-2710-11A-01-BS1.570f0c48-7d79-4fe3-927...</td>\n",
       "      <td>Biospecimen</td>\n",
       "      <td>Slide Image</td>\n",
       "      <td>TCGA-LUSC</td>\n",
       "      <td>TCGA-60-2710</td>\n",
       "      <td>TCGA-60-2710-11A</td>\n",
       "      <td>Solid Tissue Normal</td>\n",
       "      <td>Normal</td>\n",
       "      <td>0</td>\n",
       "    </tr>\n",
       "    <tr>\n",
       "      <th>2</th>\n",
       "      <td>7aed21df-98a3-49d9-b4b8-c06c432e62bf</td>\n",
       "      <td>TCGA-44-2657-11A-01-TS1.03d328d6-5c0e-42ec-90b...</td>\n",
       "      <td>Biospecimen</td>\n",
       "      <td>Slide Image</td>\n",
       "      <td>TCGA-LUAD</td>\n",
       "      <td>TCGA-44-2657</td>\n",
       "      <td>TCGA-44-2657-11A</td>\n",
       "      <td>Solid Tissue Normal</td>\n",
       "      <td>Normal</td>\n",
       "      <td>0</td>\n",
       "    </tr>\n",
       "    <tr>\n",
       "      <th>3</th>\n",
       "      <td>0aebe9e5-eaa9-46dd-ad7b-7d0b06c13b8d</td>\n",
       "      <td>TCGA-66-2780-01A-01-BS1.75a3754a-e4d2-4ef8-ba3...</td>\n",
       "      <td>Biospecimen</td>\n",
       "      <td>Slide Image</td>\n",
       "      <td>TCGA-LUSC</td>\n",
       "      <td>TCGA-66-2780</td>\n",
       "      <td>TCGA-66-2780-01A</td>\n",
       "      <td>Primary Tumor</td>\n",
       "      <td>Tumor-LUSC</td>\n",
       "      <td>1</td>\n",
       "    </tr>\n",
       "    <tr>\n",
       "      <th>4</th>\n",
       "      <td>c21f3186-f757-40e9-a576-91ce0a7bfe58</td>\n",
       "      <td>TCGA-94-A5I4-01A-01-TS1.F254FD92-09AE-42D5-AE3...</td>\n",
       "      <td>Biospecimen</td>\n",
       "      <td>Slide Image</td>\n",
       "      <td>TCGA-LUSC</td>\n",
       "      <td>TCGA-94-A5I4</td>\n",
       "      <td>TCGA-94-A5I4-01A</td>\n",
       "      <td>Primary Tumor</td>\n",
       "      <td>Tumor-LUSC</td>\n",
       "      <td>1</td>\n",
       "    </tr>\n",
       "  </tbody>\n",
       "</table>\n",
       "</div>"
      ],
      "text/plain": [
       "                                File ID  \\\n",
       "0  b05abef8-826a-4381-88a4-9920b2df8d3f   \n",
       "1  7dd02309-79ba-450f-8b13-789dbb8fb61a   \n",
       "2  7aed21df-98a3-49d9-b4b8-c06c432e62bf   \n",
       "3  0aebe9e5-eaa9-46dd-ad7b-7d0b06c13b8d   \n",
       "4  c21f3186-f757-40e9-a576-91ce0a7bfe58   \n",
       "\n",
       "                                           File Name Data Category  \\\n",
       "0  TCGA-60-2725-01A-01-TS1.47dfda47-c072-46cb-80d...   Biospecimen   \n",
       "1  TCGA-60-2710-11A-01-BS1.570f0c48-7d79-4fe3-927...   Biospecimen   \n",
       "2  TCGA-44-2657-11A-01-TS1.03d328d6-5c0e-42ec-90b...   Biospecimen   \n",
       "3  TCGA-66-2780-01A-01-BS1.75a3754a-e4d2-4ef8-ba3...   Biospecimen   \n",
       "4  TCGA-94-A5I4-01A-01-TS1.F254FD92-09AE-42D5-AE3...   Biospecimen   \n",
       "\n",
       "     Data Type Project ID       Case ID         Sample ID  \\\n",
       "0  Slide Image  TCGA-LUSC  TCGA-60-2725  TCGA-60-2725-01A   \n",
       "1  Slide Image  TCGA-LUSC  TCGA-60-2710  TCGA-60-2710-11A   \n",
       "2  Slide Image  TCGA-LUAD  TCGA-44-2657  TCGA-44-2657-11A   \n",
       "3  Slide Image  TCGA-LUSC  TCGA-66-2780  TCGA-66-2780-01A   \n",
       "4  Slide Image  TCGA-LUSC  TCGA-94-A5I4  TCGA-94-A5I4-01A   \n",
       "\n",
       "           Sample Type        type  label  \n",
       "0        Primary Tumor  Tumor-LUSC      1  \n",
       "1  Solid Tissue Normal      Normal      0  \n",
       "2  Solid Tissue Normal      Normal      0  \n",
       "3        Primary Tumor  Tumor-LUSC      1  \n",
       "4        Primary Tumor  Tumor-LUSC      1  "
      ]
     },
     "execution_count": 5,
     "metadata": {},
     "output_type": "execute_result"
    }
   ],
   "source": [
    "test_df_path = '/scratch/cz2064/myjupyter/BDML/Project/Phase5/Train_Test_Split/test.csv'\n",
    "test_df = pd.read_csv(test_df_path)\n",
    "test_df.head()"
   ]
  },
  {
   "cell_type": "code",
   "execution_count": null,
   "metadata": {},
   "outputs": [],
   "source": []
  },
  {
   "cell_type": "code",
   "execution_count": 17,
   "metadata": {},
   "outputs": [
    {
     "data": {
      "text/html": [
       "<div>\n",
       "<style scoped>\n",
       "    .dataframe tbody tr th:only-of-type {\n",
       "        vertical-align: middle;\n",
       "    }\n",
       "\n",
       "    .dataframe tbody tr th {\n",
       "        vertical-align: top;\n",
       "    }\n",
       "\n",
       "    .dataframe thead th {\n",
       "        text-align: right;\n",
       "    }\n",
       "</style>\n",
       "<table border=\"1\" class=\"dataframe\">\n",
       "  <thead>\n",
       "    <tr style=\"text-align: right;\">\n",
       "      <th></th>\n",
       "      <th>File ID</th>\n",
       "      <th>File Name</th>\n",
       "      <th>Data Category</th>\n",
       "      <th>Data Type</th>\n",
       "      <th>Project ID</th>\n",
       "      <th>Case ID</th>\n",
       "      <th>Sample ID</th>\n",
       "      <th>Sample Type</th>\n",
       "      <th>type</th>\n",
       "      <th>label</th>\n",
       "    </tr>\n",
       "  </thead>\n",
       "  <tbody>\n",
       "    <tr>\n",
       "      <th>1</th>\n",
       "      <td>7dd02309-79ba-450f-8b13-789dbb8fb61a</td>\n",
       "      <td>TCGA-60-2710-11A-01-BS1.570f0c48-7d79-4fe3-927...</td>\n",
       "      <td>Biospecimen</td>\n",
       "      <td>Slide Image</td>\n",
       "      <td>TCGA-LUSC</td>\n",
       "      <td>TCGA-60-2710</td>\n",
       "      <td>TCGA-60-2710-11A</td>\n",
       "      <td>Solid Tissue Normal</td>\n",
       "      <td>Normal</td>\n",
       "      <td>0</td>\n",
       "    </tr>\n",
       "  </tbody>\n",
       "</table>\n",
       "</div>"
      ],
      "text/plain": [
       "                                File ID  \\\n",
       "1  7dd02309-79ba-450f-8b13-789dbb8fb61a   \n",
       "\n",
       "                                           File Name Data Category  \\\n",
       "1  TCGA-60-2710-11A-01-BS1.570f0c48-7d79-4fe3-927...   Biospecimen   \n",
       "\n",
       "     Data Type Project ID       Case ID         Sample ID  \\\n",
       "1  Slide Image  TCGA-LUSC  TCGA-60-2710  TCGA-60-2710-11A   \n",
       "\n",
       "           Sample Type    type  label  \n",
       "1  Solid Tissue Normal  Normal      0  "
      ]
     },
     "execution_count": 17,
     "metadata": {},
     "output_type": "execute_result"
    }
   ],
   "source": [
    "sample = test_df.loc[[1]]\n",
    "sample"
   ]
  },
  {
   "cell_type": "code",
   "execution_count": 18,
   "metadata": {},
   "outputs": [],
   "source": [
    "layer2_subimages_path = '/scratch/cz2064/myjupyter/BDML/Project/Data/data_layer2_subimages/'\n",
    "file_id = sample['File ID'].values[0]\n",
    "file_name = sample['File Name'].values[0]\n",
    "sample_label = sample['label'].values[0]\n",
    "subsamples_file_path = layer2_subimages_path + file_id + '/' + 'subsamples_list.txt'\n",
    "subsamples_file = open(subsamples_file_path)\n",
    "subsamples_info = subsamples_file.readlines()\n",
    "subsamples_file.close()"
   ]
  },
  {
   "cell_type": "code",
   "execution_count": 19,
   "metadata": {},
   "outputs": [
    {
     "name": "stdout",
     "output_type": "stream",
     "text": [
      "['40001', '25712', '10000', '6428', '2500', '1607']\n",
      "(10000, 6428)\n"
     ]
    }
   ],
   "source": [
    "level_dimensions_info = subsamples_info[0].strip('\\n').strip('level_dimensions:')\\\n",
    ".replace('(',' ').replace(')',' ').replace(',',' ').split()\n",
    "print(level_dimensions_info)\n",
    "sample_dimensions = (int(level_dimensions_info[2]),int(level_dimensions_info[3]))\n",
    "print(sample_dimensions)"
   ]
  },
  {
   "cell_type": "code",
   "execution_count": null,
   "metadata": {},
   "outputs": [],
   "source": []
  },
  {
   "cell_type": "code",
   "execution_count": 20,
   "metadata": {},
   "outputs": [],
   "source": [
    "pixels = 1024\n",
    "\n",
    "preprocess = transforms.Compose([\n",
    "    transforms.CenterCrop(1024),\n",
    "    transforms.ToTensor(),\n",
    "    transforms.Normalize(mean=[0.485, 0.456, 0.406], std=[0.229, 0.224, 0.225]),])\n",
    "\n",
    "\n",
    "cam_0_dict = {}\n",
    "cam_1_dict = {}\n",
    "cam_2_dict = {}\n",
    "for i in range(int(sample_dimensions[0]/pixels)+1):\n",
    "    for j in range(int(sample_dimensions[1]/pixels)+1):\n",
    "        subimage_file_name = 'subsample_'+ str(i) + '_' + str(j) +'.jpg'\n",
    "        subimage_file_path = layer2_subimages_path + file_id + '/' + subimage_file_name\n",
    "        image = Image.open(subimage_file_path)\n",
    "        image_tensor = preprocess(image).unsqueeze(0).to(device,dtype=torch.float)\n",
    "        model.eval()\n",
    "        output = model(image_tensor)\n",
    "        pre_class = output.data.max(-1)[1].cpu().numpy()\n",
    "        Feature_map = model.featuremap1.cpu().numpy()\n",
    "        params = list(model.parameters())\n",
    "        weight_softmax = np.squeeze(params[-1].data.cpu().numpy())\n",
    "        \n",
    "        weights_map0 = weight_softmax[0]\n",
    "        cam_0 = weights_map0.dot(Feature_map.reshape((512,32*32)))\n",
    "        cam_0 = cam_0.reshape(32,32)\n",
    "        cam_0 = cv2.resize(cam_0, (1024,1024))\n",
    "        cam_0_dict[(i,j)] = cam_0\n",
    "        \n",
    "        weights_map1 = weight_softmax[1]\n",
    "        cam_1 = weights_map1.dot(Feature_map.reshape((512,32*32)))\n",
    "        cam_1 = cam_1.reshape(32,32)\n",
    "        cam_1 = cv2.resize(cam_1, (1024,1024))\n",
    "        cam_1_dict[(i,j)] = cam_1\n",
    "        \n",
    "        weights_map2 = weight_softmax[2]\n",
    "        cam_2 = weights_map2.dot(Feature_map.reshape((512,32*32)))\n",
    "        cam_2 = cam_2.reshape(32,32)\n",
    "        cam_2 = cv2.resize(cam_2, (1024,1024))\n",
    "        cam_2_dict[(i,j)] = cam_2\n",
    "        \n"
   ]
  },
  {
   "cell_type": "code",
   "execution_count": null,
   "metadata": {},
   "outputs": [],
   "source": []
  },
  {
   "cell_type": "code",
   "execution_count": null,
   "metadata": {},
   "outputs": [],
   "source": []
  },
  {
   "cell_type": "code",
   "execution_count": 21,
   "metadata": {},
   "outputs": [],
   "source": [
    "CAM_0 = np.zeros(shape=sample_dimensions)\n",
    "for i in range(int(sample_dimensions[0]/pixels)+1):\n",
    "    for j in range(int(sample_dimensions[1]/pixels)+1):\n",
    "        cam_0 = cam_0_dict[(i,j)]\n",
    "        \n",
    "        if i == int(sample_dimensions[0]/pixels):\n",
    "            cam_0 = cam_0[-(sample_dimensions[0]-i*1024):,:]\n",
    "            i_start = i*1024\n",
    "            i_end = sample_dimensions[0]\n",
    "        else:\n",
    "            i_start = i*1024\n",
    "            i_end = (i+1)*1024\n",
    "                \n",
    "        if j == int(sample_dimensions[1]/pixels):\n",
    "            cam_0 = cam_0[:,-(sample_dimensions[1]-j*1024):]\n",
    "            j_start = j*1024\n",
    "            j_end = sample_dimensions[0]\n",
    "        else:\n",
    "            j_start = j*1024\n",
    "            j_end = (j+1)*1024\n",
    "        \n",
    "        CAM_0[i_start:i_end,j_start:j_end] = cam_0"
   ]
  },
  {
   "cell_type": "code",
   "execution_count": 22,
   "metadata": {},
   "outputs": [],
   "source": [
    "CAM_1 = np.zeros(shape=sample_dimensions)\n",
    "for i in range(int(sample_dimensions[0]/pixels)+1):\n",
    "    for j in range(int(sample_dimensions[1]/pixels)+1):\n",
    "        cam_1 = cam_1_dict[(i,j)]\n",
    "        \n",
    "        if i == int(sample_dimensions[0]/pixels):\n",
    "            cam_1 = cam_1[-(sample_dimensions[0]-i*1024):,:]\n",
    "            i_start = i*1024\n",
    "            i_end = sample_dimensions[0]\n",
    "        else:\n",
    "            i_start = i*1024\n",
    "            i_end = (i+1)*1024\n",
    "                \n",
    "        if j == int(sample_dimensions[1]/pixels):\n",
    "            cam_1 = cam_1[:,-(sample_dimensions[1]-j*1024):]\n",
    "            j_start = j*1024\n",
    "            j_end = sample_dimensions[0]\n",
    "        else:\n",
    "            j_start = j*1024\n",
    "            j_end = (j+1)*1024\n",
    "        \n",
    "        CAM_1[i_start:i_end,j_start:j_end] = cam_1"
   ]
  },
  {
   "cell_type": "code",
   "execution_count": 23,
   "metadata": {},
   "outputs": [],
   "source": [
    "CAM_2 = np.zeros(shape=sample_dimensions)\n",
    "for i in range(int(sample_dimensions[0]/pixels)+1):\n",
    "    for j in range(int(sample_dimensions[1]/pixels)+1):\n",
    "        cam_2 = cam_2_dict[(i,j)]\n",
    "        \n",
    "        if i == int(sample_dimensions[0]/pixels):\n",
    "            cam_2 = cam_2[-(sample_dimensions[0]-i*1024):,:]\n",
    "            i_start = i*1024\n",
    "            i_end = sample_dimensions[0]\n",
    "        else:\n",
    "            i_start = i*1024\n",
    "            i_end = (i+1)*1024\n",
    "                \n",
    "        if j == int(sample_dimensions[1]/pixels):\n",
    "            cam_2 = cam_2[:,-(sample_dimensions[1]-j*1024):]\n",
    "            j_start = j*1024\n",
    "            j_end = sample_dimensions[0]\n",
    "        else:\n",
    "            j_start = j*1024\n",
    "            j_end = (j+1)*1024\n",
    "        \n",
    "        CAM_2[i_start:i_end,j_start:j_end] = cam_2"
   ]
  },
  {
   "cell_type": "code",
   "execution_count": null,
   "metadata": {},
   "outputs": [],
   "source": []
  },
  {
   "cell_type": "code",
   "execution_count": null,
   "metadata": {},
   "outputs": [],
   "source": []
  },
  {
   "cell_type": "code",
   "execution_count": null,
   "metadata": {},
   "outputs": [],
   "source": []
  },
  {
   "cell_type": "code",
   "execution_count": 24,
   "metadata": {},
   "outputs": [],
   "source": [
    "original_image_path = '/scratch/cz2064/myjupyter/BDML/Project/Data/data_layer2/' \\\n",
    "+ file_id + '/' + file_name[:-4] + '.jpg'\n",
    "original_image = cv2.imread(original_image_path)\n",
    "original_image = cv2.resize(original_image, (1024,1024))"
   ]
  },
  {
   "cell_type": "code",
   "execution_count": null,
   "metadata": {},
   "outputs": [],
   "source": []
  },
  {
   "cell_type": "code",
   "execution_count": null,
   "metadata": {},
   "outputs": [],
   "source": []
  },
  {
   "cell_type": "code",
   "execution_count": null,
   "metadata": {},
   "outputs": [],
   "source": []
  },
  {
   "cell_type": "code",
   "execution_count": 25,
   "metadata": {},
   "outputs": [
    {
     "data": {
      "text/plain": [
       "True"
      ]
     },
     "execution_count": 25,
     "metadata": {},
     "output_type": "execute_result"
    }
   ],
   "source": [
    "cam = CAM_0\n",
    "cam_img = cam / np.max(cam)\n",
    "cam_img = np.uint8(255 * cam_img)\n",
    "CAM = cv2.resize(cam_img, (1024,1024))\n",
    "heatmap = cv2.applyColorMap(CAM, cv2.COLORMAP_JET)\n",
    "cv2.imwrite('cam_0.jpg', heatmap*0.3+0.7*original_image)"
   ]
  },
  {
   "cell_type": "code",
   "execution_count": 26,
   "metadata": {},
   "outputs": [
    {
     "data": {
      "text/plain": [
       "True"
      ]
     },
     "execution_count": 26,
     "metadata": {},
     "output_type": "execute_result"
    }
   ],
   "source": [
    "cam = CAM_1\n",
    "cam_img = cam / np.max(cam)\n",
    "cam_img = np.uint8(255 * cam_img)\n",
    "CAM = cv2.resize(cam_img, (1024,1024))\n",
    "heatmap = cv2.applyColorMap(CAM, cv2.COLORMAP_JET)\n",
    "cv2.imwrite('cam_1.jpg', heatmap*0.3+0.7*original_image)"
   ]
  },
  {
   "cell_type": "code",
   "execution_count": 27,
   "metadata": {},
   "outputs": [
    {
     "data": {
      "text/plain": [
       "True"
      ]
     },
     "execution_count": 27,
     "metadata": {},
     "output_type": "execute_result"
    }
   ],
   "source": [
    "cam = CAM_2\n",
    "cam_img = cam / np.max(cam)\n",
    "cam_img = np.uint8(255 * cam_img)\n",
    "CAM = cv2.resize(cam_img, (1024,1024))\n",
    "heatmap = cv2.applyColorMap(CAM, cv2.COLORMAP_JET)\n",
    "cv2.imwrite('cam_2.jpg', heatmap*0.3+0.7*original_image)"
   ]
  },
  {
   "cell_type": "code",
   "execution_count": null,
   "metadata": {},
   "outputs": [],
   "source": []
  },
  {
   "cell_type": "code",
   "execution_count": null,
   "metadata": {},
   "outputs": [],
   "source": []
  },
  {
   "cell_type": "code",
   "execution_count": null,
   "metadata": {},
   "outputs": [],
   "source": []
  },
  {
   "cell_type": "code",
   "execution_count": null,
   "metadata": {},
   "outputs": [],
   "source": []
  },
  {
   "cell_type": "code",
   "execution_count": null,
   "metadata": {},
   "outputs": [],
   "source": []
  },
  {
   "cell_type": "code",
   "execution_count": null,
   "metadata": {},
   "outputs": [],
   "source": []
  }
 ],
 "metadata": {
  "kernelspec": {
   "display_name": "Python 3",
   "language": "python",
   "name": "python3"
  },
  "language_info": {
   "codemirror_mode": {
    "name": "ipython",
    "version": 3
   },
   "file_extension": ".py",
   "mimetype": "text/x-python",
   "name": "python",
   "nbconvert_exporter": "python",
   "pygments_lexer": "ipython3",
   "version": "3.6.10"
  }
 },
 "nbformat": 4,
 "nbformat_minor": 4
}
