{
 "cells": [
  {
   "cell_type": "code",
   "execution_count": 56,
   "metadata": {},
   "outputs": [],
   "source": [
    "import pandas as pd\n",
    "import numpy as np\n",
    "import matplotlib\n",
    "import matplotlib.pyplot as plt\n",
    "import scipy.misc\n",
    "import os\n",
    "from PIL import Image\n",
    "import torch\n",
    "import torch.nn as nn\n",
    "import torch.nn.functional as F\n",
    "from torch import optim\n",
    "import time\n",
    "from torch.utils.data import Dataset, DataLoader\n",
    "import torchvision.transforms as transforms\n",
    "import torchvision.models as models\n",
    "import cv2"
   ]
  },
  {
   "cell_type": "code",
   "execution_count": 57,
   "metadata": {},
   "outputs": [],
   "source": [
    "device = torch.device('cpu')"
   ]
  },
  {
   "cell_type": "code",
   "execution_count": null,
   "metadata": {},
   "outputs": [],
   "source": []
  },
  {
   "cell_type": "code",
   "execution_count": null,
   "metadata": {},
   "outputs": [],
   "source": []
  },
  {
   "cell_type": "code",
   "execution_count": 58,
   "metadata": {},
   "outputs": [
    {
     "name": "stderr",
     "output_type": "stream",
     "text": [
      "Using cache found in /home/cz2064/.cache/torch/hub/pytorch_vision_v0.6.0\n"
     ]
    }
   ],
   "source": [
    "VGG_11 = torch.hub.load('pytorch/vision:v0.6.0', 'vgg11_bn', pretrained=True)\n",
    "class VGG_CAM(nn.Module):\n",
    "    def __init__(self, features = VGG_11.features, n_classes = 3):\n",
    "        super(VGG_CAM, self).__init__()\n",
    "        self.features = features\n",
    "        self.avgpool = nn.AdaptiveAvgPool2d((1, 1))\n",
    "        self.classifier = nn.Linear(512, n_classes,bias=False)\n",
    "            \n",
    "    def forward(self, x):\n",
    "        x = self.features(x)\n",
    "        self.featuremap1 = x.detach()\n",
    "        x = self.avgpool(x)\n",
    "        x = torch.flatten(x, 1)\n",
    "        x = self.classifier(x)\n",
    "        return x\n",
    "    \n",
    "preprocess = transforms.Compose([\n",
    "    transforms.CenterCrop(1024),\n",
    "    transforms.ToTensor(),\n",
    "    transforms.Normalize(mean=[0.485, 0.456, 0.406], std=[0.229, 0.224, 0.225]),])"
   ]
  },
  {
   "cell_type": "code",
   "execution_count": 59,
   "metadata": {},
   "outputs": [
    {
     "name": "stderr",
     "output_type": "stream",
     "text": [
      "/scratch/cz2064/envs/dl4med/lib/python3.6/site-packages/torch/serialization.py:559: UserWarning: Couldn't retrieve source code for container of type VGG_CAM. It won't be checked for correctness upon loading.\n",
      "  \"type \" + container_type.__name__ + \". It won't be checked \"\n",
      "/scratch/cz2064/envs/dl4med/lib/python3.6/site-packages/torch/serialization.py:593: SourceChangeWarning: source code of class 'torch.nn.modules.conv.Conv2d' has changed. you can retrieve the original source code by accessing the object's source attribute or set `torch.nn.Module.dump_patches = True` and use the patch tool to revert the changes.\n",
      "  warnings.warn(msg, SourceChangeWarning)\n",
      "/scratch/cz2064/envs/dl4med/lib/python3.6/site-packages/torch/serialization.py:593: SourceChangeWarning: source code of class 'torch.nn.modules.activation.ReLU' has changed. you can retrieve the original source code by accessing the object's source attribute or set `torch.nn.Module.dump_patches = True` and use the patch tool to revert the changes.\n",
      "  warnings.warn(msg, SourceChangeWarning)\n",
      "/scratch/cz2064/envs/dl4med/lib/python3.6/site-packages/torch/serialization.py:593: SourceChangeWarning: source code of class 'torch.nn.modules.linear.Linear' has changed. you can retrieve the original source code by accessing the object's source attribute or set `torch.nn.Module.dump_patches = True` and use the patch tool to revert the changes.\n",
      "  warnings.warn(msg, SourceChangeWarning)\n"
     ]
    },
    {
     "data": {
      "text/plain": [
       "<All keys matched successfully>"
      ]
     },
     "execution_count": 59,
     "metadata": {},
     "output_type": "execute_result"
    }
   ],
   "source": [
    "model = VGG_CAM().to(device)\n",
    "files = torch.load('./Python File/checkpoint_Model.pt', map_location='cpu')\n",
    "model.load_state_dict(files['best_model_wts'])"
   ]
  },
  {
   "cell_type": "code",
   "execution_count": null,
   "metadata": {},
   "outputs": [],
   "source": []
  },
  {
   "cell_type": "code",
   "execution_count": 60,
   "metadata": {},
   "outputs": [
    {
     "data": {
      "text/html": [
       "<div>\n",
       "<style scoped>\n",
       "    .dataframe tbody tr th:only-of-type {\n",
       "        vertical-align: middle;\n",
       "    }\n",
       "\n",
       "    .dataframe tbody tr th {\n",
       "        vertical-align: top;\n",
       "    }\n",
       "\n",
       "    .dataframe thead th {\n",
       "        text-align: right;\n",
       "    }\n",
       "</style>\n",
       "<table border=\"1\" class=\"dataframe\">\n",
       "  <thead>\n",
       "    <tr style=\"text-align: right;\">\n",
       "      <th></th>\n",
       "      <th>File ID</th>\n",
       "      <th>File Name</th>\n",
       "      <th>Data Category</th>\n",
       "      <th>Data Type</th>\n",
       "      <th>Project ID</th>\n",
       "      <th>Case ID</th>\n",
       "      <th>Sample ID</th>\n",
       "      <th>Sample Type</th>\n",
       "      <th>type</th>\n",
       "      <th>label</th>\n",
       "    </tr>\n",
       "  </thead>\n",
       "  <tbody>\n",
       "    <tr>\n",
       "      <th>6</th>\n",
       "      <td>bbbabc12-da9c-446a-8a5f-ef6a8db7cd0a</td>\n",
       "      <td>TCGA-64-5778-01A-01-TS1.e85c2800-9cf3-4e65-a00...</td>\n",
       "      <td>Biospecimen</td>\n",
       "      <td>Slide Image</td>\n",
       "      <td>TCGA-LUAD</td>\n",
       "      <td>TCGA-64-5778</td>\n",
       "      <td>TCGA-64-5778-01A</td>\n",
       "      <td>Primary Tumor</td>\n",
       "      <td>Tumor-LUAD</td>\n",
       "      <td>2</td>\n",
       "    </tr>\n",
       "    <tr>\n",
       "      <th>7</th>\n",
       "      <td>da66ca5f-50c4-42b3-854a-31d006ae6341</td>\n",
       "      <td>TCGA-05-4389-01A-01-TS1.8609dd2e-0f65-4941-83f...</td>\n",
       "      <td>Biospecimen</td>\n",
       "      <td>Slide Image</td>\n",
       "      <td>TCGA-LUAD</td>\n",
       "      <td>TCGA-05-4389</td>\n",
       "      <td>TCGA-05-4389-01A</td>\n",
       "      <td>Primary Tumor</td>\n",
       "      <td>Tumor-LUAD</td>\n",
       "      <td>2</td>\n",
       "    </tr>\n",
       "    <tr>\n",
       "      <th>8</th>\n",
       "      <td>cd14bb97-9a0a-4f06-8ca4-e4105c08a7b5</td>\n",
       "      <td>TCGA-34-5929-01A-01-TS1.222f0d37-3952-46ab-bb8...</td>\n",
       "      <td>Biospecimen</td>\n",
       "      <td>Slide Image</td>\n",
       "      <td>TCGA-LUSC</td>\n",
       "      <td>TCGA-34-5929</td>\n",
       "      <td>TCGA-34-5929-01A</td>\n",
       "      <td>Primary Tumor</td>\n",
       "      <td>Tumor-LUSC</td>\n",
       "      <td>1</td>\n",
       "    </tr>\n",
       "    <tr>\n",
       "      <th>9</th>\n",
       "      <td>e5c149b4-85dc-41b2-8251-9386b9c7cf13</td>\n",
       "      <td>TCGA-50-6673-01A-01-BS1.24f3a5ac-0f1d-4977-834...</td>\n",
       "      <td>Biospecimen</td>\n",
       "      <td>Slide Image</td>\n",
       "      <td>TCGA-LUAD</td>\n",
       "      <td>TCGA-50-6673</td>\n",
       "      <td>TCGA-50-6673-01A</td>\n",
       "      <td>Primary Tumor</td>\n",
       "      <td>Tumor-LUAD</td>\n",
       "      <td>2</td>\n",
       "    </tr>\n",
       "    <tr>\n",
       "      <th>10</th>\n",
       "      <td>389246a9-4268-42d1-9292-058457133a80</td>\n",
       "      <td>TCGA-53-7626-01A-01-TS1.50562488-8429-4794-970...</td>\n",
       "      <td>Biospecimen</td>\n",
       "      <td>Slide Image</td>\n",
       "      <td>TCGA-LUAD</td>\n",
       "      <td>TCGA-53-7626</td>\n",
       "      <td>TCGA-53-7626-01A</td>\n",
       "      <td>Primary Tumor</td>\n",
       "      <td>Tumor-LUAD</td>\n",
       "      <td>2</td>\n",
       "    </tr>\n",
       "    <tr>\n",
       "      <th>...</th>\n",
       "      <td>...</td>\n",
       "      <td>...</td>\n",
       "      <td>...</td>\n",
       "      <td>...</td>\n",
       "      <td>...</td>\n",
       "      <td>...</td>\n",
       "      <td>...</td>\n",
       "      <td>...</td>\n",
       "      <td>...</td>\n",
       "      <td>...</td>\n",
       "    </tr>\n",
       "    <tr>\n",
       "      <th>411</th>\n",
       "      <td>dd76a429-9fc2-47db-8ebc-8d6dda0bc99d</td>\n",
       "      <td>TCGA-50-6590-11A-01-TS1.fefe9444-70ce-4911-a03...</td>\n",
       "      <td>Biospecimen</td>\n",
       "      <td>Slide Image</td>\n",
       "      <td>TCGA-LUAD</td>\n",
       "      <td>TCGA-50-6590</td>\n",
       "      <td>TCGA-50-6590-11A</td>\n",
       "      <td>Solid Tissue Normal</td>\n",
       "      <td>Normal</td>\n",
       "      <td>0</td>\n",
       "    </tr>\n",
       "    <tr>\n",
       "      <th>412</th>\n",
       "      <td>18f7943d-6a38-4ebc-ab56-354b4980c96a</td>\n",
       "      <td>TCGA-37-4135-01A-01-TS1.fd901f17-fe66-4709-b28...</td>\n",
       "      <td>Biospecimen</td>\n",
       "      <td>Slide Image</td>\n",
       "      <td>TCGA-LUSC</td>\n",
       "      <td>TCGA-37-4135</td>\n",
       "      <td>TCGA-37-4135-01A</td>\n",
       "      <td>Primary Tumor</td>\n",
       "      <td>Tumor-LUSC</td>\n",
       "      <td>1</td>\n",
       "    </tr>\n",
       "    <tr>\n",
       "      <th>413</th>\n",
       "      <td>05919b71-18da-47b5-b5fb-af3ff07a871a</td>\n",
       "      <td>TCGA-78-7163-11A-01-TS1.1ce6c71a-1466-48d2-89d...</td>\n",
       "      <td>Biospecimen</td>\n",
       "      <td>Slide Image</td>\n",
       "      <td>TCGA-LUAD</td>\n",
       "      <td>TCGA-78-7163</td>\n",
       "      <td>TCGA-78-7163-11A</td>\n",
       "      <td>Solid Tissue Normal</td>\n",
       "      <td>Normal</td>\n",
       "      <td>0</td>\n",
       "    </tr>\n",
       "    <tr>\n",
       "      <th>414</th>\n",
       "      <td>08172153-d520-4d0d-9291-faebfbd4d92d</td>\n",
       "      <td>TCGA-56-8307-01A-01-TS1.7537de75-53be-4ace-aec...</td>\n",
       "      <td>Biospecimen</td>\n",
       "      <td>Slide Image</td>\n",
       "      <td>TCGA-LUSC</td>\n",
       "      <td>TCGA-56-8307</td>\n",
       "      <td>TCGA-56-8307-01A</td>\n",
       "      <td>Primary Tumor</td>\n",
       "      <td>Tumor-LUSC</td>\n",
       "      <td>1</td>\n",
       "    </tr>\n",
       "    <tr>\n",
       "      <th>415</th>\n",
       "      <td>074c22a8-5175-41e7-a0e4-2fbc1871b4cf</td>\n",
       "      <td>TCGA-50-5930-01A-01-TS1.a03e43a6-cac8-4a5d-98b...</td>\n",
       "      <td>Biospecimen</td>\n",
       "      <td>Slide Image</td>\n",
       "      <td>TCGA-LUAD</td>\n",
       "      <td>TCGA-50-5930</td>\n",
       "      <td>TCGA-50-5930-01A</td>\n",
       "      <td>Primary Tumor</td>\n",
       "      <td>Tumor-LUAD</td>\n",
       "      <td>2</td>\n",
       "    </tr>\n",
       "  </tbody>\n",
       "</table>\n",
       "<p>410 rows × 10 columns</p>\n",
       "</div>"
      ],
      "text/plain": [
       "                                  File ID  \\\n",
       "6    bbbabc12-da9c-446a-8a5f-ef6a8db7cd0a   \n",
       "7    da66ca5f-50c4-42b3-854a-31d006ae6341   \n",
       "8    cd14bb97-9a0a-4f06-8ca4-e4105c08a7b5   \n",
       "9    e5c149b4-85dc-41b2-8251-9386b9c7cf13   \n",
       "10   389246a9-4268-42d1-9292-058457133a80   \n",
       "..                                    ...   \n",
       "411  dd76a429-9fc2-47db-8ebc-8d6dda0bc99d   \n",
       "412  18f7943d-6a38-4ebc-ab56-354b4980c96a   \n",
       "413  05919b71-18da-47b5-b5fb-af3ff07a871a   \n",
       "414  08172153-d520-4d0d-9291-faebfbd4d92d   \n",
       "415  074c22a8-5175-41e7-a0e4-2fbc1871b4cf   \n",
       "\n",
       "                                             File Name Data Category  \\\n",
       "6    TCGA-64-5778-01A-01-TS1.e85c2800-9cf3-4e65-a00...   Biospecimen   \n",
       "7    TCGA-05-4389-01A-01-TS1.8609dd2e-0f65-4941-83f...   Biospecimen   \n",
       "8    TCGA-34-5929-01A-01-TS1.222f0d37-3952-46ab-bb8...   Biospecimen   \n",
       "9    TCGA-50-6673-01A-01-BS1.24f3a5ac-0f1d-4977-834...   Biospecimen   \n",
       "10   TCGA-53-7626-01A-01-TS1.50562488-8429-4794-970...   Biospecimen   \n",
       "..                                                 ...           ...   \n",
       "411  TCGA-50-6590-11A-01-TS1.fefe9444-70ce-4911-a03...   Biospecimen   \n",
       "412  TCGA-37-4135-01A-01-TS1.fd901f17-fe66-4709-b28...   Biospecimen   \n",
       "413  TCGA-78-7163-11A-01-TS1.1ce6c71a-1466-48d2-89d...   Biospecimen   \n",
       "414  TCGA-56-8307-01A-01-TS1.7537de75-53be-4ace-aec...   Biospecimen   \n",
       "415  TCGA-50-5930-01A-01-TS1.a03e43a6-cac8-4a5d-98b...   Biospecimen   \n",
       "\n",
       "       Data Type Project ID       Case ID         Sample ID  \\\n",
       "6    Slide Image  TCGA-LUAD  TCGA-64-5778  TCGA-64-5778-01A   \n",
       "7    Slide Image  TCGA-LUAD  TCGA-05-4389  TCGA-05-4389-01A   \n",
       "8    Slide Image  TCGA-LUSC  TCGA-34-5929  TCGA-34-5929-01A   \n",
       "9    Slide Image  TCGA-LUAD  TCGA-50-6673  TCGA-50-6673-01A   \n",
       "10   Slide Image  TCGA-LUAD  TCGA-53-7626  TCGA-53-7626-01A   \n",
       "..           ...        ...           ...               ...   \n",
       "411  Slide Image  TCGA-LUAD  TCGA-50-6590  TCGA-50-6590-11A   \n",
       "412  Slide Image  TCGA-LUSC  TCGA-37-4135  TCGA-37-4135-01A   \n",
       "413  Slide Image  TCGA-LUAD  TCGA-78-7163  TCGA-78-7163-11A   \n",
       "414  Slide Image  TCGA-LUSC  TCGA-56-8307  TCGA-56-8307-01A   \n",
       "415  Slide Image  TCGA-LUAD  TCGA-50-5930  TCGA-50-5930-01A   \n",
       "\n",
       "             Sample Type        type  label  \n",
       "6          Primary Tumor  Tumor-LUAD      2  \n",
       "7          Primary Tumor  Tumor-LUAD      2  \n",
       "8          Primary Tumor  Tumor-LUSC      1  \n",
       "9          Primary Tumor  Tumor-LUAD      2  \n",
       "10         Primary Tumor  Tumor-LUAD      2  \n",
       "..                   ...         ...    ...  \n",
       "411  Solid Tissue Normal      Normal      0  \n",
       "412        Primary Tumor  Tumor-LUSC      1  \n",
       "413  Solid Tissue Normal      Normal      0  \n",
       "414        Primary Tumor  Tumor-LUSC      1  \n",
       "415        Primary Tumor  Tumor-LUAD      2  \n",
       "\n",
       "[410 rows x 10 columns]"
      ]
     },
     "execution_count": 60,
     "metadata": {},
     "output_type": "execute_result"
    }
   ],
   "source": [
    "test_df_path = '/scratch/cz2064/myjupyter/BDML/Project/Phase5/Train_Test_Split/test.csv'\n",
    "test_df = pd.read_csv(test_df_path)\n",
    "test_df[6:]"
   ]
  },
  {
   "cell_type": "code",
   "execution_count": 62,
   "metadata": {},
   "outputs": [
    {
     "data": {
      "text/html": [
       "<div>\n",
       "<style scoped>\n",
       "    .dataframe tbody tr th:only-of-type {\n",
       "        vertical-align: middle;\n",
       "    }\n",
       "\n",
       "    .dataframe tbody tr th {\n",
       "        vertical-align: top;\n",
       "    }\n",
       "\n",
       "    .dataframe thead th {\n",
       "        text-align: right;\n",
       "    }\n",
       "</style>\n",
       "<table border=\"1\" class=\"dataframe\">\n",
       "  <thead>\n",
       "    <tr style=\"text-align: right;\">\n",
       "      <th></th>\n",
       "      <th>File ID</th>\n",
       "      <th>File Name</th>\n",
       "      <th>Data Category</th>\n",
       "      <th>Data Type</th>\n",
       "      <th>Project ID</th>\n",
       "      <th>Case ID</th>\n",
       "      <th>Sample ID</th>\n",
       "      <th>Sample Type</th>\n",
       "      <th>type</th>\n",
       "      <th>label</th>\n",
       "    </tr>\n",
       "  </thead>\n",
       "  <tbody>\n",
       "    <tr>\n",
       "      <th>0</th>\n",
       "      <td>b05abef8-826a-4381-88a4-9920b2df8d3f</td>\n",
       "      <td>TCGA-60-2725-01A-01-TS1.47dfda47-c072-46cb-80d...</td>\n",
       "      <td>Biospecimen</td>\n",
       "      <td>Slide Image</td>\n",
       "      <td>TCGA-LUSC</td>\n",
       "      <td>TCGA-60-2725</td>\n",
       "      <td>TCGA-60-2725-01A</td>\n",
       "      <td>Primary Tumor</td>\n",
       "      <td>Tumor-LUSC</td>\n",
       "      <td>1</td>\n",
       "    </tr>\n",
       "  </tbody>\n",
       "</table>\n",
       "</div>"
      ],
      "text/plain": [
       "                                File ID  \\\n",
       "0  b05abef8-826a-4381-88a4-9920b2df8d3f   \n",
       "\n",
       "                                           File Name Data Category  \\\n",
       "0  TCGA-60-2725-01A-01-TS1.47dfda47-c072-46cb-80d...   Biospecimen   \n",
       "\n",
       "     Data Type Project ID       Case ID         Sample ID    Sample Type  \\\n",
       "0  Slide Image  TCGA-LUSC  TCGA-60-2725  TCGA-60-2725-01A  Primary Tumor   \n",
       "\n",
       "         type  label  \n",
       "0  Tumor-LUSC      1  "
      ]
     },
     "execution_count": 62,
     "metadata": {},
     "output_type": "execute_result"
    }
   ],
   "source": [
    "sample = test_df.loc[[0]]\n",
    "sample"
   ]
  },
  {
   "cell_type": "code",
   "execution_count": null,
   "metadata": {},
   "outputs": [],
   "source": []
  },
  {
   "cell_type": "code",
   "execution_count": null,
   "metadata": {},
   "outputs": [],
   "source": []
  },
  {
   "cell_type": "code",
   "execution_count": 63,
   "metadata": {},
   "outputs": [],
   "source": [
    "imgage_folder = '/scratch/cz2064/myjupyter/BDML/Project/Data/data_1024/'\n",
    "file_id = sample['File ID'].values[0]\n",
    "file_name = sample['File Name'].values[0]\n",
    "image_path = imgage_folder + file_id + '/' + file_name[:-4] + '_1024.jpg'\n",
    "image = Image.open(image_path)\n",
    "image_tensor = preprocess(image).unsqueeze(0)\n",
    "sample_input = image_tensor.to(device,dtype=torch.float)\n",
    "sample_lable = sample['label'].values[0]"
   ]
  },
  {
   "cell_type": "code",
   "execution_count": 64,
   "metadata": {},
   "outputs": [],
   "source": [
    "imgage_folder = '/scratch/cz2064/myjupyter/BDML/Project/Data/data_1024/'\n",
    "image_path = imgage_folder + file_id + '/' + file_name[:-4] + '_1024.jpg'\n",
    "original_image = cv2.imread(image_path)"
   ]
  },
  {
   "cell_type": "code",
   "execution_count": null,
   "metadata": {},
   "outputs": [],
   "source": []
  },
  {
   "cell_type": "code",
   "execution_count": null,
   "metadata": {},
   "outputs": [],
   "source": []
  },
  {
   "cell_type": "code",
   "execution_count": 65,
   "metadata": {},
   "outputs": [],
   "source": [
    "model.eval()\n",
    "output = model(sample_input)\n",
    "pre_class = output.data.max(-1)[1].cpu().numpy()"
   ]
  },
  {
   "cell_type": "code",
   "execution_count": 66,
   "metadata": {},
   "outputs": [
    {
     "name": "stdout",
     "output_type": "stream",
     "text": [
      "Feature map: (1, 512, 32, 32)\n"
     ]
    }
   ],
   "source": [
    "Feature_map = model.featuremap1.cpu().numpy()\n",
    "print('Feature map:',Feature_map.shape)"
   ]
  },
  {
   "cell_type": "code",
   "execution_count": 67,
   "metadata": {},
   "outputs": [
    {
     "name": "stdout",
     "output_type": "stream",
     "text": [
      "Weights: (3, 512)\n"
     ]
    }
   ],
   "source": [
    "params = list(model.parameters())\n",
    "weight_softmax = np.squeeze(params[-1].data.cpu().numpy())\n",
    "print('Weights:',weight_softmax.shape)"
   ]
  },
  {
   "cell_type": "code",
   "execution_count": 68,
   "metadata": {},
   "outputs": [],
   "source": [
    "# Feature map 1\n",
    "weights_map1 = weight_softmax[0]\n",
    "cam_1 = weights_map1.dot(Feature_map.reshape((512,32*32)))\n",
    "cam_1 = cam_1.reshape(32,32)\n",
    "# Feature map 2\n",
    "weights_map2 = weight_softmax[1]\n",
    "cam_2 = weights_map2.dot(Feature_map.reshape((512,32*32)))\n",
    "cam_2 = cam_2.reshape(32,32)\n",
    "# Feature map 3\n",
    "weights_map3 = weight_softmax[2]\n",
    "cam_3 = weights_map3.dot(Feature_map.reshape((512,32*32)))\n",
    "cam_3 = cam_3.reshape(32,32)"
   ]
  },
  {
   "cell_type": "code",
   "execution_count": null,
   "metadata": {},
   "outputs": [],
   "source": []
  },
  {
   "cell_type": "code",
   "execution_count": 69,
   "metadata": {},
   "outputs": [
    {
     "data": {
      "text/plain": [
       "True"
      ]
     },
     "execution_count": 69,
     "metadata": {},
     "output_type": "execute_result"
    }
   ],
   "source": [
    "cam = cam_1\n",
    "cam_img = cam / np.max(cam)\n",
    "cam_img = np.uint8(255 * cam_img)\n",
    "CAM = cv2.resize(cam_img, (1024,1024))\n",
    "heatmap = cv2.applyColorMap(CAM, cv2.COLORMAP_JET)\n",
    "cv2.imwrite('cam_1.jpg', heatmap*0.3+0.7*original_image)"
   ]
  },
  {
   "cell_type": "code",
   "execution_count": 70,
   "metadata": {},
   "outputs": [
    {
     "data": {
      "text/plain": [
       "True"
      ]
     },
     "execution_count": 70,
     "metadata": {},
     "output_type": "execute_result"
    }
   ],
   "source": [
    "cam = cam_2\n",
    "cam_img = cam / np.max(cam)\n",
    "cam_img = np.uint8(255 * cam_img)\n",
    "CAM = cv2.resize(cam_img, (1024,1024))\n",
    "heatmap = cv2.applyColorMap(CAM, cv2.COLORMAP_JET)\n",
    "cv2.imwrite('cam_2.jpg', heatmap*0.3+0.7*original_image)"
   ]
  },
  {
   "cell_type": "code",
   "execution_count": 71,
   "metadata": {},
   "outputs": [
    {
     "data": {
      "text/plain": [
       "True"
      ]
     },
     "execution_count": 71,
     "metadata": {},
     "output_type": "execute_result"
    }
   ],
   "source": [
    "cam = cam_3\n",
    "cam_img = cam / np.max(cam)\n",
    "cam_img = np.uint8(255 * cam_img)\n",
    "CAM = cv2.resize(cam_img, (1024,1024))\n",
    "heatmap = cv2.applyColorMap(CAM, cv2.COLORMAP_JET)\n",
    "cv2.imwrite('cam_3.jpg', heatmap*0.3+0.7*original_image)"
   ]
  },
  {
   "cell_type": "code",
   "execution_count": 72,
   "metadata": {},
   "outputs": [
    {
     "data": {
      "text/plain": [
       "1"
      ]
     },
     "execution_count": 72,
     "metadata": {},
     "output_type": "execute_result"
    }
   ],
   "source": [
    "sample_lable"
   ]
  },
  {
   "cell_type": "code",
   "execution_count": 73,
   "metadata": {},
   "outputs": [
    {
     "data": {
      "text/plain": [
       "array([1])"
      ]
     },
     "execution_count": 73,
     "metadata": {},
     "output_type": "execute_result"
    }
   ],
   "source": [
    "pre_class"
   ]
  },
  {
   "cell_type": "code",
   "execution_count": null,
   "metadata": {},
   "outputs": [],
   "source": []
  },
  {
   "cell_type": "code",
   "execution_count": null,
   "metadata": {},
   "outputs": [],
   "source": []
  },
  {
   "cell_type": "code",
   "execution_count": null,
   "metadata": {},
   "outputs": [],
   "source": []
  },
  {
   "cell_type": "code",
   "execution_count": null,
   "metadata": {},
   "outputs": [],
   "source": []
  },
  {
   "cell_type": "code",
   "execution_count": null,
   "metadata": {},
   "outputs": [],
   "source": []
  },
  {
   "cell_type": "code",
   "execution_count": null,
   "metadata": {},
   "outputs": [],
   "source": []
  },
  {
   "cell_type": "code",
   "execution_count": null,
   "metadata": {},
   "outputs": [],
   "source": []
  },
  {
   "cell_type": "code",
   "execution_count": null,
   "metadata": {},
   "outputs": [],
   "source": []
  },
  {
   "cell_type": "code",
   "execution_count": null,
   "metadata": {},
   "outputs": [],
   "source": []
  },
  {
   "cell_type": "code",
   "execution_count": null,
   "metadata": {},
   "outputs": [],
   "source": []
  },
  {
   "cell_type": "code",
   "execution_count": null,
   "metadata": {},
   "outputs": [],
   "source": []
  }
 ],
 "metadata": {
  "kernelspec": {
   "display_name": "Python 3",
   "language": "python",
   "name": "python3"
  },
  "language_info": {
   "codemirror_mode": {
    "name": "ipython",
    "version": 3
   },
   "file_extension": ".py",
   "mimetype": "text/x-python",
   "name": "python",
   "nbconvert_exporter": "python",
   "pygments_lexer": "ipython3",
   "version": "3.6.10"
  }
 },
 "nbformat": 4,
 "nbformat_minor": 4
}
